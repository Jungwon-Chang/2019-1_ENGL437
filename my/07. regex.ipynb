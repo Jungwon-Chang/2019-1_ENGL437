{
 "cells": [
  {
   "cell_type": "code",
   "execution_count": 1,
   "metadata": {},
   "outputs": [],
   "source": [
    "import nltk\n",
    "import re"
   ]
  },
  {
   "cell_type": "markdown",
   "metadata": {},
   "source": [
    "### triple '/\"\n",
    "multi-line을 quote처럼 사용하는 경향이 있으나, 본질적으로는 multi-line을 string으로 받는 것"
   ]
  },
  {
   "cell_type": "code",
   "execution_count": 2,
   "metadata": {},
   "outputs": [],
   "source": [
    "a = \"\"\"\" Basic Regular Expression Meta-Characters, Including Wildcards, Ranges and Closures\n",
    ".\t        Wildcard, matches any character\n",
    "^abc\t    Matches some pattern abc at the start of a string\n",
    "abc$\t    Matches some pattern abc at the end of a string\n",
    "[abc]\t    Matches one of a set of characters\n",
    "[^abc]      Matches anything but a set of characters\n",
    "[A-Z0-9]\tMatches one of a range of characters\n",
    "ed|ing|s\tMatches one of the specified strings (disjunction)\n",
    "*\t        Zero or more of previous item, e.g. a*, [a-z]* (also known as Kleene Closure)\n",
    "+\t        One or more of previous item, e.g. a+, [a-z]+\n",
    "?\t        Zero or one of the previous item (i.e. optional), e.g. a?, [a-z]?\n",
    "{n}\t        Exactly n repeats where n is a non-negative integer\n",
    "{n,}\t    At least n repeats\n",
    "{,n}\t    No more than n repeats\n",
    "{m,n}\t    At least m and no more than n repeats\n",
    "a(b|c)+\t    Parentheses that indicate the scope of the operators\"\"\""
   ]
  },
  {
   "cell_type": "code",
   "execution_count": 3,
   "metadata": {
    "scrolled": false
   },
   "outputs": [
    {
     "name": "stdout",
     "output_type": "stream",
     "text": [
      "<class 'str'>\n"
     ]
    },
    {
     "data": {
      "text/plain": [
       "'\" Basic Regular Expression Meta-Characters, Including Wildcards, Ranges and Closures\\n.\\t        Wildcard, matches any character\\n^abc\\t    Matches some pattern abc at the start of a string\\nabc$\\t    Matches some pattern abc at the end of a string\\n[abc]\\t    Matches one of a set of characters\\n[^abc]      Matches anything but a set of characters\\n[A-Z0-9]\\tMatches one of a range of characters\\ned|ing|s\\tMatches one of the specified strings (disjunction)\\n*\\t        Zero or more of previous item, e.g. a*, [a-z]* (also known as Kleene Closure)\\n+\\t        One or more of previous item, e.g. a+, [a-z]+\\n?\\t        Zero or one of the previous item (i.e. optional), e.g. a?, [a-z]?\\n{n}\\t        Exactly n repeats where n is a non-negative integer\\n{n,}\\t    At least n repeats\\n{,n}\\t    No more than n repeats\\n{m,n}\\t    At least m and no more than n repeats\\na(b|c)+\\t    Parentheses that indicate the scope of the operators'"
      ]
     },
     "execution_count": 3,
     "metadata": {},
     "output_type": "execute_result"
    }
   ],
   "source": [
    "print(type(a))\n",
    "a"
   ]
  },
  {
   "cell_type": "code",
   "execution_count": 4,
   "metadata": {},
   "outputs": [
    {
     "name": "stdout",
     "output_type": "stream",
     "text": [
      "['a', 'aa', 'aal', 'aalii', 'aam', 'aardvark', 'aardwolf', 'aba', 'abac', 'abaca']\n"
     ]
    }
   ],
   "source": [
    "# nltk가 갖고 있는 영단어의 list를 만들어낸다\n",
    "wordlist = [w for w in nltk.corpus.words.words('en') if w.islower()]\n",
    "print(wordlist[:10])"
   ]
  },
  {
   "cell_type": "markdown",
   "metadata": {},
   "source": [
    "### list comprehension에 대한 이해"
   ]
  },
  {
   "cell_type": "code",
   "execution_count": 5,
   "metadata": {
    "scrolled": true
   },
   "outputs": [
    {
     "data": {
      "text/plain": [
       "True"
      ]
     },
     "execution_count": 5,
     "metadata": {},
     "output_type": "execute_result"
    }
   ],
   "source": [
    "a = []\n",
    "\n",
    "for word in nltk.corpus.words.words('en'):\n",
    "    if word.islower():\n",
    "        a.append(word)\n",
    "        \n",
    "a == wordlist"
   ]
  },
  {
   "cell_type": "code",
   "execution_count": 6,
   "metadata": {},
   "outputs": [
    {
     "data": {
      "text/plain": [
       "<_sre.SRE_Match object; span=(0, 3), match='abc'>"
      ]
     },
     "execution_count": 6,
     "metadata": {},
     "output_type": "execute_result"
    }
   ],
   "source": [
    "# if 절에서 0(False), None만 아니면 넘어간다!\n",
    "re.search('abc', 'abcde')"
   ]
  },
  {
   "cell_type": "code",
   "execution_count": 7,
   "metadata": {},
   "outputs": [
    {
     "name": "stdout",
     "output_type": "stream",
     "text": [
      "['abaissed', 'abandoned', 'abased', 'abashed', 'abatised', 'abed', 'aborted', 'abridged', 'abscessed', 'absconded']\n"
     ]
    }
   ],
   "source": [
    "# wordlist 중에서 'ed'로 끝나는 단어들을 보자!\n",
    "result = [w for w in wordlist if re.search('ed$', w)][:10]\n",
    "print(result[:10])"
   ]
  },
  {
   "cell_type": "code",
   "execution_count": 8,
   "metadata": {
    "scrolled": true
   },
   "outputs": [
    {
     "name": "stdout",
     "output_type": "stream",
     "text": [
      "['abjectly', 'adjuster', 'dejected', 'dejectly', 'injector', 'majestic', 'objectee', 'objector', 'rejecter', 'rejector']\n"
     ]
    }
   ],
   "source": [
    "# ^ for start of the string\n",
    "# . --> wildcard: matches any character!\n",
    "result = [w for w in wordlist if re.search('^..j..t..$', w)][:10]\n",
    "print(result[:10])"
   ]
  },
  {
   "cell_type": "code",
   "execution_count": 9,
   "metadata": {},
   "outputs": [
    {
     "name": "stdout",
     "output_type": "stream",
     "text": [
      "['gold', 'golf', 'hold', 'hole']\n"
     ]
    }
   ],
   "source": [
    "# []: matches one of the characters in the bracket\n",
    "# - in [](ex [a-z]) : shows the range --> [a-z] matches a character btw a~z\n",
    "result = [w for w in wordlist if re.search('^[ghi][mno][jlk][def]$', w)][:10]\n",
    "print(result[:10])"
   ]
  },
  {
   "cell_type": "code",
   "execution_count": 10,
   "metadata": {},
   "outputs": [
    {
     "name": "stdout",
     "output_type": "stream",
     "text": [
      "['a', 'aa', 'ah', 'aha', 'h', 'ha', 'hah']\n"
     ]
    }
   ],
   "source": [
    "# + --> 1 or more(*: 0 or more, ?: 0 or 1)\n",
    "result = [w for w in wordlist if re.search('^[ah]+$', w)][:10]\n",
    "print(result[:10])"
   ]
  },
  {
   "cell_type": "code",
   "execution_count": 11,
   "metadata": {
    "scrolled": true
   },
   "outputs": [
    {
     "name": "stdout",
     "output_type": "stream",
     "text": [
      "['!', '#', '$', '%', '&', \"'\", \"''\", \"'30s\", \"'40s\", \"'50s\", \"'80s\", \"'82\", \"'86\", \"'S\", \"'d\", \"'ll\", \"'m\", \"'re\", \"'s\", \"'ve\", '*', '*-1', '*-10', '*-100', '*-101', '*-102', '*-103', '*-104', '*-105', '*-106', '*-107', '*-108', '*-109', '*-11', '*-110', '*-111', '*-112', '*-113', '*-114', '*-115', '*-116', '*-117', '*-118', '*-119', '*-12', '*-120', '*-121', '*-122', '*-123', '*-124', '*-125', '*-126', '*-127', '*-128', '*-129', '*-13', '*-130', '*-131', '*-132', '*-133', '*-134', '*-135', '*-136', '*-137', '*-138', '*-139', '*-14', '*-140', '*-141', '*-142', '*-144', '*-145', '*-146', '*-147', '*-149', '*-15', '*-150', '*-151', '*-152', '*-153', '*-154', '*-155', '*-156', '*-157', '*-158', '*-159', '*-16', '*-160', '*-161', '*-162', '*-163', '*-164', '*-165', '*-166', '*-17', '*-18', '*-19', '*-2', '*-20', '*-21']\n"
     ]
    }
   ],
   "source": [
    "# 얘 또한 string으로 이루어진 list가 나올 것이다.\n",
    "# wsj : Wall Street Journal\n",
    "wsj = sorted(set(nltk.corpus.treebank.words()))\n",
    "print(wsj[:100])"
   ]
  },
  {
   "cell_type": "code",
   "execution_count": 12,
   "metadata": {},
   "outputs": [
    {
     "name": "stdout",
     "output_type": "stream",
     "text": [
      "['0.0085', '0.05', '0.1', '0.16', '0.2', '0.25', '0.28', '0.3', '0.4', '0.5']\n"
     ]
    }
   ],
   "source": [
    "# '.'을 match시키고 싶다면 --> \\.(\\로 escape)\n",
    "wordlist = [w for w in wsj if re.search('^[0-9]+\\.[0-9]+$', w)]\n",
    "print(wordlist[:10])"
   ]
  },
  {
   "cell_type": "code",
   "execution_count": 13,
   "metadata": {},
   "outputs": [
    {
     "name": "stdout",
     "output_type": "stream",
     "text": [
      "['C$', 'US$']\n"
     ]
    }
   ],
   "source": [
    "# 마찬가지로 $ 또한 \\로 escape\n",
    "wordlist = [w for w in wsj if re.search('^[A-Z]+\\$$', w)]\n",
    "print(wordlist[:10])"
   ]
  },
  {
   "cell_type": "code",
   "execution_count": 14,
   "metadata": {},
   "outputs": [
    {
     "name": "stdout",
     "output_type": "stream",
     "text": [
      "['1614', '1637', '1787', '1901', '1903', '1917', '1925', '1929', '1933', '1934']\n",
      "['10-day', '10-lap', '10-year', '100-share', '12-point', '12-year', '14-hour', '15-day', '150-point', '190-point']\n",
      "['black-and-white', 'bread-and-butter', 'father-in-law', 'machine-gun-toting', 'savings-and-loan']\n"
     ]
    }
   ],
   "source": [
    "# numbers in the {} indicates how many times the pattern right before is repeated\n",
    "wordlist = [w for w in wsj if re.search('^[0-9]{4}$', w)]\n",
    "print(wordlist[:10])\n",
    "\n",
    "# you can range by {n,m} --> n or more, not more than m\n",
    "wordlist = [w for w in wsj if re.search('^[0-9]+-[a-z]{3,5}$', w)]\n",
    "print(wordlist[:10])\n",
    "\n",
    "# open in {} ex. {2,} ==> 2 or more \n",
    "wordlist = [w for w in wsj if re.search('^[a-z]{5,}-[a-z]{2,3}-[a-z]{,6}$', w)]\n",
    "print(wordlist[:10])"
   ]
  },
  {
   "cell_type": "code",
   "execution_count": 15,
   "metadata": {
    "scrolled": true
   },
   "outputs": [
    {
     "name": "stdout",
     "output_type": "stream",
     "text": [
      "['62%-owned', 'Absorbed', 'According', 'Adopting', 'Advanced', 'Advancing', 'Alfred', 'Allied', 'Annualized', 'Anything']\n"
     ]
    }
   ],
   "source": [
    "# 'a|b' means 'a' or 'b', used for patterns more than 1 character\n",
    "# '()' indicates the range of the operation\n",
    "# so this will return a list of words ending with 'ed' or 'ing'\n",
    "wordlist = [w for w in wsj if re.search('(ed|ing)$', w)]\n",
    "print(wordlist[:10])"
   ]
  },
  {
   "cell_type": "markdown",
   "metadata": {},
   "source": [
    "before we move on, we have to compare re.search & re.findall"
   ]
  },
  {
   "cell_type": "code",
   "execution_count": 16,
   "metadata": {},
   "outputs": [
    {
     "data": {
      "text/plain": [
       "<_sre.SRE_Match object; span=(0, 3), match='abc'>"
      ]
     },
     "execution_count": 16,
     "metadata": {},
     "output_type": "execute_result"
    }
   ],
   "source": [
    "# re.search returns only 1 match object\n",
    "word = 'abcde'\n",
    "a = re.search('abc',word)\n",
    "a"
   ]
  },
  {
   "cell_type": "code",
   "execution_count": 17,
   "metadata": {
    "scrolled": true
   },
   "outputs": [
    {
     "data": {
      "text/plain": [
       "'abc'"
      ]
     },
     "execution_count": 17,
     "metadata": {},
     "output_type": "execute_result"
    }
   ],
   "source": [
    "# and we can play with it with operations .start(), .end()\n",
    "# which \n",
    "word[a.start():a.end()]"
   ]
  },
  {
   "cell_type": "code",
   "execution_count": 18,
   "metadata": {},
   "outputs": [
    {
     "data": {
      "text/plain": [
       "['ab', 'ab', 'ab', 'ab']"
      ]
     },
     "execution_count": 18,
     "metadata": {},
     "output_type": "execute_result"
    }
   ],
   "source": [
    "# however, re.findall returns a list of strings matching the given pattern\n",
    "word = 'abcdeabcdabcaba'\n",
    "re.findall('ab', word)"
   ]
  },
  {
   "cell_type": "code",
   "execution_count": 19,
   "metadata": {},
   "outputs": [
    {
     "name": "stdout",
     "output_type": "stream",
     "text": [
      "<class 'callable_iterator'>\n"
     ]
    }
   ],
   "source": [
    "# this is out of our class material, but if you want to return a multiple match objects\n",
    "# you can use .finditer(), which will return a iterator of match_objects\n",
    "b = re.finditer('[ab]',word)\n",
    "print(type(b))"
   ]
  },
  {
   "cell_type": "code",
   "execution_count": 20,
   "metadata": {},
   "outputs": [
    {
     "name": "stdout",
     "output_type": "stream",
     "text": [
      "a\n",
      "b\n",
      "a\n",
      "b\n",
      "a\n",
      "b\n",
      "a\n",
      "b\n",
      "a\n"
     ]
    }
   ],
   "source": [
    "for b_ in b:\n",
    "    print(word[b_.start():b_.end()])"
   ]
  },
  {
   "cell_type": "code",
   "execution_count": 21,
   "metadata": {},
   "outputs": [
    {
     "name": "stdout",
     "output_type": "stream",
     "text": [
      "['u', 'e', 'a', 'i', 'a', 'i', 'i', 'i', 'e', 'i', 'a', 'i', 'o', 'i', 'o', 'u']\n",
      "['rc', 'fr', 'st', 'xp', 'ci']\n",
      "['supercalifragilisticexpialidocious']\n",
      "['sup', 'rcal', 'frag', 'lis', 'tic', 'xpial', 'doc']\n"
     ]
    }
   ],
   "source": [
    "word = 'supercalifragilisticexpialidocious'\n",
    "result = re.findall(r'[aeiou]', word)\n",
    "print(result)\n",
    "result = re.findall('[aeiou](..)[aeiou]', word)\n",
    "print(result)\n",
    "result = re.findall('[^aeiou].+[^aeiou]', word)\n",
    "print(result)\n",
    "result = re.findall('[^aeiou].+?[^aeiou]', word)\n",
    "print(result)"
   ]
  },
  {
   "cell_type": "code",
   "execution_count": 22,
   "metadata": {
    "scrolled": true
   },
   "outputs": [
    {
     "data": {
      "text/plain": [
       "[('io', 549),\n",
       " ('ea', 476),\n",
       " ('ie', 331),\n",
       " ('ou', 329),\n",
       " ('ai', 261),\n",
       " ('ia', 253),\n",
       " ('ee', 217),\n",
       " ('oo', 174),\n",
       " ('ua', 109),\n",
       " ('au', 106)]"
      ]
     },
     "execution_count": 22,
     "metadata": {},
     "output_type": "execute_result"
    }
   ],
   "source": [
    "wsj = sorted(set(nltk.corpus.treebank.words()))\n",
    "# nltk.FreqDist gets list as a input, and counts which pattern of string is most frequent\n",
    "fdist = nltk.FreqDist(vs for word in wsj for vs in re.findall(r'[aeiou]{2,}', word))\n",
    "fdist.most_common(10)"
   ]
  },
  {
   "cell_type": "markdown",
   "metadata": {},
   "source": [
    "#### vs for word in wsj for vs?"
   ]
  },
  {
   "cell_type": "code",
   "execution_count": 23,
   "metadata": {
    "scrolled": true
   },
   "outputs": [
    {
     "name": "stdout",
     "output_type": "stream",
     "text": [
      "3405\n"
     ]
    },
    {
     "data": {
      "text/plain": [
       "True"
      ]
     },
     "execution_count": 23,
     "metadata": {},
     "output_type": "execute_result"
    }
   ],
   "source": [
    "vowels = []\n",
    "# understanding nested for loop\n",
    "for word in wsj:\n",
    "    # re.findall의 결과도 vowels를 element list로 나오므로 얘를 다시 for loop 돌려줘서 패턴별로 넣어줄 수 있다.\n",
    "    # ex. \n",
    "    for vowel in re.findall(r'[aeiou]{2,}', word):    \n",
    "        vowels.append(vowel)\n",
    "print(len(vowels))\n",
    "\n",
    "vowels == [vs for word in wsj for vs in re.findall(r'[aeiou]{2,}', word)]"
   ]
  },
  {
   "cell_type": "code",
   "execution_count": 24,
   "metadata": {
    "scrolled": true
   },
   "outputs": [
    {
     "name": "stdout",
     "output_type": "stream",
     "text": [
      "ae\n",
      "iou\n"
     ]
    }
   ],
   "source": [
    "vows = re.findall(r'[aeiou]{2,}', 'ae iou')\n",
    "for vow in vows:\n",
    "    print(vow)"
   ]
  },
  {
   "cell_type": "code",
   "execution_count": 25,
   "metadata": {},
   "outputs": [
    {
     "data": {
      "text/plain": [
       "'abrcdbra'"
      ]
     },
     "execution_count": 25,
     "metadata": {},
     "output_type": "execute_result"
    }
   ],
   "source": [
    "# this expression matches...\n",
    "# 1. (combination of) vowels at the start of the string\n",
    "# 2. (combination of) vowels at the end of the string\n",
    "# 3. consonants at the middle of the string\n",
    "# so function compress(word) will result like murmurring\n",
    "regexp = r'^[AEIOUaeiou]+|[AEIOUaeiou]+$|[^AEIOUaeiou]'\n",
    "\n",
    "def compress(word):\n",
    "    pieces = re.findall(regexp, word)\n",
    "    return ''.join(pieces)\n",
    "\n",
    "compress('abracadabra')"
   ]
  },
  {
   "cell_type": "code",
   "execution_count": 26,
   "metadata": {
    "scrolled": true
   },
   "outputs": [
    {
     "name": "stdout",
     "output_type": "stream",
     "text": [
      "['Universal', 'Declaration', 'of', 'Human', 'Rights', 'Preamble', 'Whereas', 'recognition', 'of', 'the', 'inherent', 'dignity', 'and', 'of', 'the', 'equal', 'and', 'inalienable', 'rights', 'of', 'all', 'members', 'of', 'the', 'human', 'family', 'is', 'the', 'foundation', 'of', 'freedom', ',', 'justice', 'and', 'peace', 'in', 'the', 'world', ',', 'Whereas', 'disregard', 'and', 'contempt', 'for', 'human', 'rights', 'have', 'resulted', 'in', 'barbarous', 'acts', 'which', 'have', 'outraged', 'the', 'conscience', 'of', 'mankind', ',', 'and', 'the', 'advent', 'of', 'a', 'world', 'in', 'which', 'human', 'beings', 'shall', 'enjoy', 'freedom', 'of', 'speech', 'and']\n"
     ]
    }
   ],
   "source": [
    "english_udhr = nltk.corpus.udhr.words('English-Latin1')\n",
    "print(english_udhr[:75])"
   ]
  },
  {
   "cell_type": "code",
   "execution_count": 27,
   "metadata": {},
   "outputs": [
    {
     "data": {
      "text/plain": [
       "<generator object <genexpr> at 0x1a1bd4e258>"
      ]
     },
     "execution_count": 27,
     "metadata": {},
     "output_type": "execute_result"
    }
   ],
   "source": [
    "(compress(w) for w in english_udhr[:75])"
   ]
  },
  {
   "cell_type": "code",
   "execution_count": 28,
   "metadata": {
    "scrolled": true
   },
   "outputs": [
    {
     "name": "stdout",
     "output_type": "stream",
     "text": [
      "Unvrsl Dclrtn of Hmn Rghts Prmble Whrs rcgntn of the inhrnt dgnty and\n",
      "of the eql and inlnble rghts of all mmbrs of the hmn fmly is the fndtn\n",
      "of frdm , jstce and pce in the wrld , Whrs dsrgrd and cntmpt fr hmn\n",
      "rghts hve rsltd in brbrs acts whch hve outrgd the cnscnce of mnknd ,\n",
      "and the advnt of a wrld in whch hmn bngs shll enjy frdm of spch and\n",
      "<class 'str'>\n"
     ]
    }
   ],
   "source": [
    "# nltk.tokenwrap will wrap the iterator/generator object(list라 생각해도 무방) to a string\n",
    "print(nltk.tokenwrap(compress(w) for w in english_udhr[:75]))\n",
    "print(type(nltk.tokenwrap(compress(w) for w in english_udhr[:75])))"
   ]
  },
  {
   "cell_type": "markdown",
   "metadata": {},
   "source": [
    "###  conditional frequency distribution\n",
    "character를 쌍으로 받아서 (ex.'bo') 어떤 쌍이 얼마나 있는지 통계를 내줌(cfd.tabulate)!"
   ]
  },
  {
   "cell_type": "code",
   "execution_count": 29,
   "metadata": {},
   "outputs": [
    {
     "name": "stdout",
     "output_type": "stream",
     "text": [
      "['kaa', 'kaa', 'kaa', 'kaakaaro', 'kaakaaviko', 'kaakaavo', 'kaakaoko', 'kaakasi', 'kaakau', 'kaakauko']\n",
      "['ka', 'ka', 'ka', 'ka', 'ka', 'ro', 'ka', 'ka', 'vi', 'ko']\n"
     ]
    }
   ],
   "source": [
    "rotokas_words = nltk.corpus.toolbox.words('rotokas.dic')\n",
    "print(rotokas_words[:10])\n",
    "\n",
    "# this will return a list of words containing consonant + vowel\n",
    "cvs = [cv for w in rotokas_words for cv in re.findall(r'[ptksvr][aeiou]', w)]\n",
    "print(cvs[:10])"
   ]
  },
  {
   "cell_type": "code",
   "execution_count": 30,
   "metadata": {},
   "outputs": [
    {
     "name": "stdout",
     "output_type": "stream",
     "text": [
      "    a   e   i   o   u \n",
      "k 418 148  94 420 173 \n",
      "p  83  31 105  34  51 \n",
      "r 187  63  84  89  79 \n",
      "s   0   0 100   2   1 \n",
      "t  47   8   0 148  37 \n",
      "v  93  27 105  48  49 \n"
     ]
    }
   ],
   "source": [
    "cfd = nltk.ConditionalFreqDist(cvs) # CFD works pairwise only\n",
    "# consonant + vowel --> 둘의 통계 자료 나타난 것\n",
    "cfd.tabulate()"
   ]
  },
  {
   "cell_type": "code",
   "execution_count": 31,
   "metadata": {
    "scrolled": true
   },
   "outputs": [
    {
     "data": {
      "text/plain": [
       "['kaapo',\n",
       " 'kaapopato',\n",
       " 'kaipori',\n",
       " 'kaiporipie',\n",
       " 'kaiporivira',\n",
       " 'kapo',\n",
       " 'kapoa',\n",
       " 'kapokao',\n",
       " 'kapokapo',\n",
       " 'kapokapo',\n",
       " 'kapokapoa',\n",
       " 'kapokapoa',\n",
       " 'kapokapora',\n",
       " 'kapokapora',\n",
       " 'kapokaporo',\n",
       " 'kapokaporo',\n",
       " 'kapokari',\n",
       " 'kapokarito',\n",
       " 'kapokoa',\n",
       " 'kapoo',\n",
       " 'kapooto',\n",
       " 'kapoovira',\n",
       " 'kapopaa',\n",
       " 'kaporo',\n",
       " 'kaporo',\n",
       " 'kaporopa',\n",
       " 'kaporoto',\n",
       " 'kapoto',\n",
       " 'karokaropo',\n",
       " 'karopo',\n",
       " 'kepo',\n",
       " 'kepoi',\n",
       " 'keposi',\n",
       " 'kepoto']"
      ]
     },
     "execution_count": 31,
     "metadata": {},
     "output_type": "execute_result"
    }
   ],
   "source": [
    "cv_word_pairs = [(cv, w) for w in rotokas_words for cv in re.findall(r'[ptksvr][aeiou]', w)]\n",
    "cv_index = nltk.Index(cv_word_pairs)\n",
    "cv_index['po']"
   ]
  },
  {
   "cell_type": "code",
   "execution_count": 32,
   "metadata": {},
   "outputs": [
    {
     "data": {
      "text/plain": [
       "[('ka', 'kaa'),\n",
       " ('ka', 'kaa'),\n",
       " ('ka', 'kaa'),\n",
       " ('ka', 'kaakaaro'),\n",
       " ('ka', 'kaakaaro'),\n",
       " ('ro', 'kaakaaro'),\n",
       " ('ka', 'kaakaaviko'),\n",
       " ('ka', 'kaakaaviko'),\n",
       " ('vi', 'kaakaaviko'),\n",
       " ('ko', 'kaakaaviko'),\n",
       " ('ka', 'kaakaavo'),\n",
       " ('ka', 'kaakaavo'),\n",
       " ('vo', 'kaakaavo'),\n",
       " ('ka', 'kaakaoko'),\n",
       " ('ka', 'kaakaoko'),\n",
       " ('ko', 'kaakaoko'),\n",
       " ('ka', 'kaakasi'),\n",
       " ('ka', 'kaakasi'),\n",
       " ('si', 'kaakasi'),\n",
       " ('ka', 'kaakau'),\n",
       " ('ka', 'kaakau'),\n",
       " ('ka', 'kaakauko'),\n",
       " ('ka', 'kaakauko'),\n",
       " ('ko', 'kaakauko'),\n",
       " ('ka', 'kaakito'),\n",
       " ('ki', 'kaakito'),\n",
       " ('to', 'kaakito'),\n",
       " ('ka', 'kaakuupato'),\n",
       " ('ku', 'kaakuupato'),\n",
       " ('pa', 'kaakuupato'),\n",
       " ('to', 'kaakuupato'),\n",
       " ('ka', 'kaaova'),\n",
       " ('va', 'kaaova'),\n",
       " ('ka', 'kaapa'),\n",
       " ('pa', 'kaapa'),\n",
       " ('ka', 'kaapea'),\n",
       " ('pe', 'kaapea'),\n",
       " ('ka', 'kaapie'),\n",
       " ('pi', 'kaapie'),\n",
       " ('ka', 'kaapie'),\n",
       " ('pi', 'kaapie'),\n",
       " ('ka', 'kaapiepato'),\n",
       " ('pi', 'kaapiepato'),\n",
       " ('pa', 'kaapiepato'),\n",
       " ('to', 'kaapiepato'),\n",
       " ('ka', 'kaapisi'),\n",
       " ('pi', 'kaapisi'),\n",
       " ('si', 'kaapisi'),\n",
       " ('ka', 'kaapisivira'),\n",
       " ('pi', 'kaapisivira'),\n",
       " ('si', 'kaapisivira'),\n",
       " ('vi', 'kaapisivira'),\n",
       " ('ra', 'kaapisivira'),\n",
       " ('ka', 'kaapo'),\n",
       " ('po', 'kaapo'),\n",
       " ('ka', 'kaapopato'),\n",
       " ('po', 'kaapopato'),\n",
       " ('pa', 'kaapopato'),\n",
       " ('to', 'kaapopato'),\n",
       " ('ka', 'kaara'),\n",
       " ('ra', 'kaara'),\n",
       " ('ka', 'kaare'),\n",
       " ('re', 'kaare'),\n",
       " ('ka', 'kaareko'),\n",
       " ('re', 'kaareko'),\n",
       " ('ko', 'kaareko'),\n",
       " ('ka', 'kaarekopie'),\n",
       " ('re', 'kaarekopie'),\n",
       " ('ko', 'kaarekopie'),\n",
       " ('pi', 'kaarekopie'),\n",
       " ('ka', 'kaareto'),\n",
       " ('re', 'kaareto'),\n",
       " ('to', 'kaareto'),\n",
       " ('re', 'Kaareva'),\n",
       " ('va', 'Kaareva'),\n",
       " ('ka', 'kaava'),\n",
       " ('va', 'kaava'),\n",
       " ('ka', 'kaavaaua'),\n",
       " ('va', 'kaavaaua'),\n",
       " ('ka', 'kaaveaka'),\n",
       " ('ve', 'kaaveaka'),\n",
       " ('ka', 'kaaveaka'),\n",
       " ('ka', 'kaaveakapie'),\n",
       " ('ve', 'kaaveakapie'),\n",
       " ('ka', 'kaaveakapie'),\n",
       " ('pi', 'kaaveakapie'),\n",
       " ('ka', 'kaaveakapievira'),\n",
       " ('ve', 'kaaveakapievira'),\n",
       " ('ka', 'kaaveakapievira'),\n",
       " ('pi', 'kaaveakapievira'),\n",
       " ('vi', 'kaaveakapievira'),\n",
       " ('ra', 'kaaveakapievira'),\n",
       " ('ka', 'kaaveakavira'),\n",
       " ('ve', 'kaaveakavira'),\n",
       " ('ka', 'kaaveakavira'),\n",
       " ('vi', 'kaaveakavira'),\n",
       " ('ra', 'kaaveakavira'),\n",
       " ('ka', 'kae'),\n",
       " ('ka', 'kae'),\n",
       " ('ka', 'kaekae'),\n",
       " ('ka', 'kaekae'),\n",
       " ('ka', 'kaekae'),\n",
       " ('ka', 'kaekae'),\n",
       " ('ka', 'kaekaearo'),\n",
       " ('ka', 'kaekaearo'),\n",
       " ('ro', 'kaekaearo'),\n",
       " ('ka', 'kaekaeo'),\n",
       " ('ka', 'kaekaeo'),\n",
       " ('ka', 'kaekaesoto'),\n",
       " ('ka', 'kaekaesoto'),\n",
       " ('so', 'kaekaesoto'),\n",
       " ('to', 'kaekaesoto'),\n",
       " ('ka', 'kaekaevira'),\n",
       " ('ka', 'kaekaevira'),\n",
       " ('vi', 'kaekaevira'),\n",
       " ('ra', 'kaekaevira'),\n",
       " ('ka', 'kaekeru'),\n",
       " ('ke', 'kaekeru'),\n",
       " ('ru', 'kaekeru'),\n",
       " ('ka', 'kaepaa'),\n",
       " ('pa', 'kaepaa'),\n",
       " ('ka', 'kaepie'),\n",
       " ('pi', 'kaepie'),\n",
       " ('ka', 'kaepie'),\n",
       " ('pi', 'kaepie'),\n",
       " ('ka', 'kaepievira'),\n",
       " ('pi', 'kaepievira'),\n",
       " ('vi', 'kaepievira'),\n",
       " ('ra', 'kaepievira'),\n",
       " ('ka', 'kaereasi'),\n",
       " ('re', 'kaereasi'),\n",
       " ('si', 'kaereasi'),\n",
       " ('ka', 'kaereasivira'),\n",
       " ('re', 'kaereasivira'),\n",
       " ('si', 'kaereasivira'),\n",
       " ('vi', 'kaereasivira'),\n",
       " ('ra', 'kaereasivira'),\n",
       " ('ka', 'kaetu'),\n",
       " ('tu', 'kaetu'),\n",
       " ('ka', 'kaetupie'),\n",
       " ('tu', 'kaetupie'),\n",
       " ('pi', 'kaetupie'),\n",
       " ('ka', 'kaetuvira'),\n",
       " ('tu', 'kaetuvira'),\n",
       " ('vi', 'kaetuvira'),\n",
       " ('ra', 'kaetuvira'),\n",
       " ('ka', 'kaeviro'),\n",
       " ('vi', 'kaeviro'),\n",
       " ('ro', 'kaeviro'),\n",
       " ('ka', 'kagave'),\n",
       " ('ve', 'kagave'),\n",
       " ('ka', 'kaie'),\n",
       " ('ka', 'kaiea'),\n",
       " ('ka', 'kaikaio'),\n",
       " ('ka', 'kaikaio'),\n",
       " ('ka', 'kaipori'),\n",
       " ('po', 'kaipori'),\n",
       " ('ri', 'kaipori'),\n",
       " ('ka', 'kaiporipie'),\n",
       " ('po', 'kaiporipie'),\n",
       " ('ri', 'kaiporipie'),\n",
       " ('pi', 'kaiporipie'),\n",
       " ('ka', 'kaiporivira'),\n",
       " ('po', 'kaiporivira'),\n",
       " ('ri', 'kaiporivira'),\n",
       " ('vi', 'kaiporivira'),\n",
       " ('ra', 'kaiporivira'),\n",
       " ('ka', 'kairi'),\n",
       " ('ri', 'kairi'),\n",
       " ('ka', 'kairiro'),\n",
       " ('ri', 'kairiro'),\n",
       " ('ro', 'kairiro'),\n",
       " ('ka', 'kairo'),\n",
       " ('ro', 'kairo'),\n",
       " ('ka', 'kaita'),\n",
       " ('ta', 'kaita'),\n",
       " ('ka', 'kaitutu'),\n",
       " ('tu', 'kaitutu'),\n",
       " ('tu', 'kaitutu'),\n",
       " ('ka', 'kaitutupie'),\n",
       " ('tu', 'kaitutupie'),\n",
       " ('tu', 'kaitutupie'),\n",
       " ('pi', 'kaitutupie'),\n",
       " ('ka', 'kaitutuvira'),\n",
       " ('tu', 'kaitutuvira'),\n",
       " ('tu', 'kaitutuvira'),\n",
       " ('vi', 'kaitutuvira'),\n",
       " ('ra', 'kaitutuvira'),\n",
       " ('ka', 'kakae'),\n",
       " ('ka', 'kakae'),\n",
       " ('ka', 'kakae'),\n",
       " ('ka', 'kakae'),\n",
       " ('ka', 'kakae'),\n",
       " ('ka', 'kakae'),\n",
       " ('ka', 'kakaevira'),\n",
       " ('ka', 'kakaevira'),\n",
       " ('vi', 'kakaevira'),\n",
       " ('ra', 'kakaevira'),\n",
       " ('ka', 'kakapikoa'),\n",
       " ('ka', 'kakapikoa'),\n",
       " ('pi', 'kakapikoa'),\n",
       " ('ko', 'kakapikoa'),\n",
       " ('ka', 'kakapikoto'),\n",
       " ('ka', 'kakapikoto'),\n",
       " ('pi', 'kakapikoto'),\n",
       " ('ko', 'kakapikoto'),\n",
       " ('to', 'kakapikoto'),\n",
       " ('ka', 'kakapu'),\n",
       " ('ka', 'kakapu'),\n",
       " ('pu', 'kakapu'),\n",
       " ('ka', 'kakapua'),\n",
       " ('ka', 'kakapua'),\n",
       " ('pu', 'kakapua'),\n",
       " ('ka', 'kakara'),\n",
       " ('ka', 'kakara'),\n",
       " ('ra', 'kakara'),\n",
       " ('ka', 'Kakarapaia'),\n",
       " ('ra', 'Kakarapaia'),\n",
       " ('pa', 'Kakarapaia'),\n",
       " ('ka', 'kakarau'),\n",
       " ('ka', 'kakarau'),\n",
       " ('ra', 'kakarau'),\n",
       " ('ka', 'Kakarera'),\n",
       " ('re', 'Kakarera'),\n",
       " ('ra', 'Kakarera'),\n",
       " ('ka', 'kakata'),\n",
       " ('ka', 'kakata'),\n",
       " ('ta', 'kakata'),\n",
       " ('ka', 'kakate'),\n",
       " ('ka', 'kakate'),\n",
       " ('te', 'kakate'),\n",
       " ('ka', 'kakatuara'),\n",
       " ('ka', 'kakatuara'),\n",
       " ('tu', 'kakatuara'),\n",
       " ('ra', 'kakatuara'),\n",
       " ('ka', 'kakau'),\n",
       " ('ka', 'kakau'),\n",
       " ('ka', 'kakauoa'),\n",
       " ('ka', 'kakauoa'),\n",
       " ('ka', 'kakavea'),\n",
       " ('ka', 'kakavea'),\n",
       " ('ve', 'kakavea'),\n",
       " ('ka', 'kakavoro'),\n",
       " ('ka', 'kakavoro'),\n",
       " ('vo', 'kakavoro'),\n",
       " ('ro', 'kakavoro'),\n",
       " ('ka', 'kakavu'),\n",
       " ('ka', 'kakavu'),\n",
       " ('vu', 'kakavu'),\n",
       " ('ka', 'kakeoto'),\n",
       " ('ke', 'kakeoto'),\n",
       " ('to', 'kakeoto'),\n",
       " ('ka', 'kaki'),\n",
       " ('ki', 'kaki'),\n",
       " ('ka', 'kaki'),\n",
       " ('ki', 'kaki'),\n",
       " ('ka', 'kakiaki'),\n",
       " ('ki', 'kakiaki'),\n",
       " ('ki', 'kakiaki'),\n",
       " ('ka', 'kakiri'),\n",
       " ('ki', 'kakiri'),\n",
       " ('ri', 'kakiri'),\n",
       " ('ka', 'kakiua'),\n",
       " ('ki', 'kakiua'),\n",
       " ('ka', 'kaku'),\n",
       " ('ku', 'kaku'),\n",
       " ('ka', 'kakua'),\n",
       " ('ku', 'kakua'),\n",
       " ('ka', 'kakuaku'),\n",
       " ('ku', 'kakuaku'),\n",
       " ('ku', 'kakuaku'),\n",
       " ('ka', 'kakupaa'),\n",
       " ('ku', 'kakupaa'),\n",
       " ('pa', 'kakupaa'),\n",
       " ('ka', 'kakuparei'),\n",
       " ('ku', 'kakuparei'),\n",
       " ('pa', 'kakuparei'),\n",
       " ('re', 'kakuparei'),\n",
       " ('ka', 'kakupato'),\n",
       " ('ku', 'kakupato'),\n",
       " ('pa', 'kakupato'),\n",
       " ('to', 'kakupato'),\n",
       " ('ka', 'kakupie'),\n",
       " ('ku', 'kakupie'),\n",
       " ('pi', 'kakupie'),\n",
       " ('ka', 'kakupute'),\n",
       " ('ku', 'kakupute'),\n",
       " ('pu', 'kakupute'),\n",
       " ('te', 'kakupute'),\n",
       " ('ka', 'kakutauo'),\n",
       " ('ku', 'kakutauo'),\n",
       " ('ta', 'kakutauo'),\n",
       " ('ka', 'kakuto'),\n",
       " ('ku', 'kakuto'),\n",
       " ('to', 'kakuto'),\n",
       " ('ka', 'kakutuiato'),\n",
       " ('ku', 'kakutuiato'),\n",
       " ('tu', 'kakutuiato'),\n",
       " ('to', 'kakutuiato'),\n",
       " ('ka', 'kakuva'),\n",
       " ('ku', 'kakuva'),\n",
       " ('va', 'kakuva'),\n",
       " ('ka', 'kakuvira'),\n",
       " ('ku', 'kakuvira'),\n",
       " ('vi', 'kakuvira'),\n",
       " ('ra', 'kakuvira'),\n",
       " ('ka', 'kameoro'),\n",
       " ('ro', 'kameoro'),\n",
       " ('ka', 'kandora'),\n",
       " ('ra', 'kandora'),\n",
       " ('ka', 'kaokao'),\n",
       " ('ka', 'kaokao'),\n",
       " ('ka', 'kaokaoara'),\n",
       " ('ka', 'kaokaoara'),\n",
       " ('ra', 'kaokaoara'),\n",
       " ('ka', 'kaokaoto'),\n",
       " ('ka', 'kaokaoto'),\n",
       " ('to', 'kaokaoto'),\n",
       " ('ka', 'kapa'),\n",
       " ('pa', 'kapa'),\n",
       " ('ka', 'kapa'),\n",
       " ('pa', 'kapa'),\n",
       " ('ka', 'kapaava'),\n",
       " ('pa', 'kapaava'),\n",
       " ('va', 'kapaava'),\n",
       " ('ka', 'kapai'),\n",
       " ('pa', 'kapai'),\n",
       " ('ka', 'kapara'),\n",
       " ('pa', 'kapara'),\n",
       " ('ra', 'kapara'),\n",
       " ('ka', 'kaparu'),\n",
       " ('pa', 'kaparu'),\n",
       " ('ru', 'kaparu'),\n",
       " ('ka', 'kaparuvira'),\n",
       " ('pa', 'kaparuvira'),\n",
       " ('ru', 'kaparuvira'),\n",
       " ('vi', 'kaparuvira'),\n",
       " ('ra', 'kaparuvira'),\n",
       " ('ka', 'kapatau'),\n",
       " ('pa', 'kapatau'),\n",
       " ('ta', 'kapatau'),\n",
       " ('ka', 'kapatoro'),\n",
       " ('pa', 'kapatoro'),\n",
       " ('to', 'kapatoro'),\n",
       " ('ro', 'kapatoro'),\n",
       " ('ka', 'kapatoroto'),\n",
       " ('pa', 'kapatoroto'),\n",
       " ('to', 'kapatoroto'),\n",
       " ('ro', 'kapatoroto'),\n",
       " ('to', 'kapatoroto'),\n",
       " ('ka', 'kape'),\n",
       " ('pe', 'kape'),\n",
       " ('ka', 'kapeaa'),\n",
       " ('pe', 'kapeaa'),\n",
       " ('ka', 'kapeaa'),\n",
       " ('pe', 'kapeaa'),\n",
       " ('ka', 'kapeaavira'),\n",
       " ('pe', 'kapeaavira'),\n",
       " ('vi', 'kapeaavira'),\n",
       " ('ra', 'kapeaavira'),\n",
       " ('ka', 'kapekape'),\n",
       " ('pe', 'kapekape'),\n",
       " ('ka', 'kapekape'),\n",
       " ('pe', 'kapekape'),\n",
       " ('ka', 'kapekapevira'),\n",
       " ('pe', 'kapekapevira'),\n",
       " ('ka', 'kapekapevira'),\n",
       " ('pe', 'kapekapevira'),\n",
       " ('vi', 'kapekapevira'),\n",
       " ('ra', 'kapekapevira'),\n",
       " ('ka', 'kapere'),\n",
       " ('pe', 'kapere'),\n",
       " ('re', 'kapere'),\n",
       " ('ka', 'kaperepie'),\n",
       " ('pe', 'kaperepie'),\n",
       " ('re', 'kaperepie'),\n",
       " ('pi', 'kaperepie'),\n",
       " ('ka', 'kapi'),\n",
       " ('pi', 'kapi'),\n",
       " ('ka', 'kapiaa'),\n",
       " ('pi', 'kapiaa'),\n",
       " ('ka', 'kapiaavira'),\n",
       " ('pi', 'kapiaavira'),\n",
       " ('vi', 'kapiaavira'),\n",
       " ('ra', 'kapiaavira'),\n",
       " ('ka', 'kapikapi'),\n",
       " ('pi', 'kapikapi'),\n",
       " ('ka', 'kapikapi'),\n",
       " ('pi', 'kapikapi'),\n",
       " ('ka', 'kapiro'),\n",
       " ('pi', 'kapiro'),\n",
       " ('ro', 'kapiro'),\n",
       " ('ka', 'kapiroa'),\n",
       " ('pi', 'kapiroa'),\n",
       " ('ro', 'kapiroa'),\n",
       " ('ka', 'kapiroko'),\n",
       " ('pi', 'kapiroko'),\n",
       " ('ro', 'kapiroko'),\n",
       " ('ko', 'kapiroko'),\n",
       " ('ka', 'kapisi'),\n",
       " ('pi', 'kapisi'),\n",
       " ('si', 'kapisi'),\n",
       " ('ka', 'kapisito'),\n",
       " ('pi', 'kapisito'),\n",
       " ('si', 'kapisito'),\n",
       " ('to', 'kapisito'),\n",
       " ('ka', 'kapiu'),\n",
       " ('pi', 'kapiu'),\n",
       " ('ka', 'kapiua'),\n",
       " ('pi', 'kapiua'),\n",
       " ('ka', 'kapo'),\n",
       " ('po', 'kapo'),\n",
       " ('ka', 'kapoa'),\n",
       " ('po', 'kapoa'),\n",
       " ('ka', 'kapokao'),\n",
       " ('po', 'kapokao'),\n",
       " ('ka', 'kapokao'),\n",
       " ('ka', 'kapokapo'),\n",
       " ('po', 'kapokapo'),\n",
       " ('ka', 'kapokapo'),\n",
       " ('po', 'kapokapo'),\n",
       " ('ka', 'kapokapoa'),\n",
       " ('po', 'kapokapoa'),\n",
       " ('ka', 'kapokapoa'),\n",
       " ('po', 'kapokapoa'),\n",
       " ('ka', 'kapokapora'),\n",
       " ('po', 'kapokapora'),\n",
       " ('ka', 'kapokapora'),\n",
       " ('po', 'kapokapora'),\n",
       " ('ra', 'kapokapora'),\n",
       " ('ka', 'kapokaporo'),\n",
       " ('po', 'kapokaporo'),\n",
       " ('ka', 'kapokaporo'),\n",
       " ('po', 'kapokaporo'),\n",
       " ('ro', 'kapokaporo'),\n",
       " ('ka', 'kapokari'),\n",
       " ('po', 'kapokari'),\n",
       " ('ka', 'kapokari'),\n",
       " ('ri', 'kapokari'),\n",
       " ('ka', 'kapokarito'),\n",
       " ('po', 'kapokarito'),\n",
       " ('ka', 'kapokarito'),\n",
       " ('ri', 'kapokarito'),\n",
       " ('to', 'kapokarito'),\n",
       " ('ka', 'kapokoa'),\n",
       " ('po', 'kapokoa'),\n",
       " ('ko', 'kapokoa'),\n",
       " ('ka', 'kapoo'),\n",
       " ('po', 'kapoo'),\n",
       " ('ka', 'kapooto'),\n",
       " ('po', 'kapooto'),\n",
       " ('to', 'kapooto'),\n",
       " ('ka', 'kapoovira'),\n",
       " ('po', 'kapoovira'),\n",
       " ('vi', 'kapoovira'),\n",
       " ('ra', 'kapoovira'),\n",
       " ('ka', 'kapopaa'),\n",
       " ('po', 'kapopaa'),\n",
       " ('pa', 'kapopaa'),\n",
       " ('ka', 'kaporo'),\n",
       " ('po', 'kaporo'),\n",
       " ('ro', 'kaporo'),\n",
       " ('ka', 'kaporo'),\n",
       " ('po', 'kaporo'),\n",
       " ('ro', 'kaporo'),\n",
       " ('ka', 'kaporopa'),\n",
       " ('po', 'kaporopa'),\n",
       " ('ro', 'kaporopa'),\n",
       " ('pa', 'kaporopa'),\n",
       " ('ka', 'kaporoto'),\n",
       " ('po', 'kaporoto'),\n",
       " ('ro', 'kaporoto'),\n",
       " ('to', 'kaporoto'),\n",
       " ('ka', 'kapoto'),\n",
       " ('po', 'kapoto'),\n",
       " ('to', 'kapoto'),\n",
       " ('ka', 'kapu'),\n",
       " ('pu', 'kapu'),\n",
       " ('ka', 'kapua'),\n",
       " ('pu', 'kapua'),\n",
       " ('ka', 'kapua'),\n",
       " ('pu', 'kapua'),\n",
       " ('ka', 'kapuapato'),\n",
       " ('pu', 'kapuapato'),\n",
       " ('pa', 'kapuapato'),\n",
       " ('to', 'kapuapato'),\n",
       " ('ka', 'kapuapie'),\n",
       " ('pu', 'kapuapie'),\n",
       " ('pi', 'kapuapie'),\n",
       " ('ka', 'kapuasisi'),\n",
       " ('pu', 'kapuasisi'),\n",
       " ('si', 'kapuasisi'),\n",
       " ('si', 'kapuasisi'),\n",
       " ('ka', 'kapupie'),\n",
       " ('pu', 'kapupie'),\n",
       " ('pi', 'kapupie'),\n",
       " ('ka', 'kapupiea'),\n",
       " ('pu', 'kapupiea'),\n",
       " ('pi', 'kapupiea'),\n",
       " ('ka', 'kapupiepaa'),\n",
       " ('pu', 'kapupiepaa'),\n",
       " ('pi', 'kapupiepaa'),\n",
       " ('pa', 'kapupiepaa'),\n",
       " ('ka', 'kapuu'),\n",
       " ('pu', 'kapuu'),\n",
       " ('ka', 'kapuupie'),\n",
       " ('pu', 'kapuupie'),\n",
       " ('pi', 'kapuupie'),\n",
       " ('ka', 'kapuupiepa'),\n",
       " ('pu', 'kapuupiepa'),\n",
       " ('pi', 'kapuupiepa'),\n",
       " ('pa', 'kapuupiepa'),\n",
       " ('ra', 'Kara'),\n",
       " ('ka', 'kara'),\n",
       " ('ra', 'kara'),\n",
       " ('ka', 'karaava'),\n",
       " ('ra', 'karaava'),\n",
       " ('va', 'karaava'),\n",
       " ('ka', 'karakarao'),\n",
       " ('ra', 'karakarao'),\n",
       " ('ka', 'karakarao'),\n",
       " ('ra', 'karakarao'),\n",
       " ('ka', 'karakaraoa'),\n",
       " ('ra', 'karakaraoa'),\n",
       " ('ka', 'karakaraoa'),\n",
       " ('ra', 'karakaraoa'),\n",
       " ('ka', 'karakaraoto'),\n",
       " ('ra', 'karakaraoto'),\n",
       " ('ka', 'karakaraoto'),\n",
       " ('ra', 'karakaraoto'),\n",
       " ('to', 'karakaraoto'),\n",
       " ('ka', 'karakaraovira'),\n",
       " ('ra', 'karakaraovira'),\n",
       " ('ka', 'karakaraovira'),\n",
       " ('ra', 'karakaraovira'),\n",
       " ('vi', 'karakaraovira'),\n",
       " ('ra', 'karakaraovira'),\n",
       " ('ka', 'karakaroto'),\n",
       " ('ra', 'karakaroto'),\n",
       " ('ka', 'karakaroto'),\n",
       " ('ro', 'karakaroto'),\n",
       " ('to', 'karakaroto'),\n",
       " ('ka', 'karakuku'),\n",
       " ('ra', 'karakuku'),\n",
       " ('ku', 'karakuku'),\n",
       " ('ku', 'karakuku'),\n",
       " ('ka', 'karaova'),\n",
       " ('ra', 'karaova'),\n",
       " ('va', 'karaova'),\n",
       " ('ka', 'karapi'),\n",
       " ('ra', 'karapi'),\n",
       " ('pi', 'karapi'),\n",
       " ('ka', 'karapivira'),\n",
       " ('ra', 'karapivira'),\n",
       " ('pi', 'karapivira'),\n",
       " ('vi', 'karapivira'),\n",
       " ('ra', 'karapivira'),\n",
       " ('ka', 'karara'),\n",
       " ('ra', 'karara'),\n",
       " ('ra', 'karara'),\n",
       " ('ka', 'karata'),\n",
       " ('ra', 'karata'),\n",
       " ('ta', 'karata'),\n",
       " ('ka', 'karato'),\n",
       " ('ra', 'karato'),\n",
       " ('to', 'karato'),\n",
       " ('ka', 'karavau'),\n",
       " ('ra', 'karavau'),\n",
       " ('va', 'karavau'),\n",
       " ('ka', 'karavisi'),\n",
       " ('ra', 'karavisi'),\n",
       " ('vi', 'karavisi'),\n",
       " ('si', 'karavisi'),\n",
       " ('ka', 'karavisito'),\n",
       " ('ra', 'karavisito'),\n",
       " ('vi', 'karavisito'),\n",
       " ('si', 'karavisito'),\n",
       " ('to', 'karavisito'),\n",
       " ('ka', 'karavuru'),\n",
       " ('ra', 'karavuru'),\n",
       " ('vu', 'karavuru'),\n",
       " ('ru', 'karavuru'),\n",
       " ('ka', 'kare'),\n",
       " ('re', 'kare'),\n",
       " ('ka', 'kare'),\n",
       " ('re', 'kare'),\n",
       " ('ka', 'karekare'),\n",
       " ('re', 'karekare'),\n",
       " ('ka', 'karekare'),\n",
       " ('re', 'karekare'),\n",
       " ('ka', 'karekare'),\n",
       " ('re', 'karekare'),\n",
       " ('ka', 'karekare'),\n",
       " ('re', 'karekare'),\n",
       " ('ka', 'karekarererava'),\n",
       " ('re', 'karekarererava'),\n",
       " ('ka', 'karekarererava'),\n",
       " ('re', 'karekarererava'),\n",
       " ('re', 'karekarererava'),\n",
       " ('ra', 'karekarererava'),\n",
       " ('va', 'karekarererava'),\n",
       " ('ka', 'karekareto'),\n",
       " ('re', 'karekareto'),\n",
       " ('ka', 'karekareto'),\n",
       " ('re', 'karekareto'),\n",
       " ('to', 'karekareto'),\n",
       " ('ka', 'kareke'),\n",
       " ('re', 'kareke'),\n",
       " ('ke', 'kareke'),\n",
       " ('ka', 'karekepie'),\n",
       " ('re', 'karekepie'),\n",
       " ('ke', 'karekepie'),\n",
       " ('pi', 'karekepie'),\n",
       " ('ka', 'karekova'),\n",
       " ('re', 'karekova'),\n",
       " ('ko', 'karekova'),\n",
       " ('va', 'karekova'),\n",
       " ('ka', 'kareo'),\n",
       " ('re', 'kareo'),\n",
       " ('ka', 'kareovira'),\n",
       " ('re', 'kareovira'),\n",
       " ('vi', 'kareovira'),\n",
       " ('ra', 'kareovira'),\n",
       " ('ka', 'karepie'),\n",
       " ('re', 'karepie'),\n",
       " ('pi', 'karepie'),\n",
       " ('ka', 'karepieto'),\n",
       " ('re', 'karepieto'),\n",
       " ('pi', 'karepieto'),\n",
       " ('to', 'karepieto'),\n",
       " ('re', 'Karepirie'),\n",
       " ('pi', 'Karepirie'),\n",
       " ('ri', 'Karepirie'),\n",
       " ('ka', 'kari'),\n",
       " ('ri', 'kari'),\n",
       " ('ka', 'karia'),\n",
       " ('ri', 'karia'),\n",
       " ('ka', 'kariava'),\n",
       " ('ri', 'kariava'),\n",
       " ('va', 'kariava'),\n",
       " ('ka', 'karikari'),\n",
       " ('ri', 'karikari'),\n",
       " ('ka', 'karikari'),\n",
       " ('ri', 'karikari'),\n",
       " ('ka', 'karirapa'),\n",
       " ('ri', 'karirapa'),\n",
       " ('ra', 'karirapa'),\n",
       " ('pa', 'karirapa'),\n",
       " ('ka', 'karisito'),\n",
       " ('ri', 'karisito'),\n",
       " ('si', 'karisito'),\n",
       " ('to', 'karisito'),\n",
       " ('ka', 'karivai'),\n",
       " ('ri', 'karivai'),\n",
       " ('va', 'karivai'),\n",
       " ('ka', 'karivaito'),\n",
       " ('ri', 'karivaito'),\n",
       " ('va', 'karivaito'),\n",
       " ('to', 'karivaito'),\n",
       " ('ka', 'karivara'),\n",
       " ('ri', 'karivara'),\n",
       " ('va', 'karivara'),\n",
       " ('ra', 'karivara'),\n",
       " ('ka', 'karo'),\n",
       " ('ro', 'karo'),\n",
       " ('ka', 'karokaropo'),\n",
       " ('ro', 'karokaropo'),\n",
       " ('ka', 'karokaropo'),\n",
       " ('ro', 'karokaropo'),\n",
       " ('po', 'karokaropo'),\n",
       " ('ka', 'karopato'),\n",
       " ('ro', 'karopato'),\n",
       " ('pa', 'karopato'),\n",
       " ('to', 'karopato'),\n",
       " ('ka', 'karopo'),\n",
       " ('ro', 'karopo'),\n",
       " ('po', 'karopo'),\n",
       " ('ka', 'karot'),\n",
       " ('ro', 'karot'),\n",
       " ('ka', 'karoto'),\n",
       " ('ro', 'karoto'),\n",
       " ('to', 'karoto'),\n",
       " ('ka', 'karova'),\n",
       " ('ro', 'karova'),\n",
       " ('va', 'karova'),\n",
       " ('ka', 'karu'),\n",
       " ('ru', 'karu'),\n",
       " ('ka', 'karuka'),\n",
       " ('ru', 'karuka'),\n",
       " ('ka', 'karuka'),\n",
       " ('ka', 'karukaru'),\n",
       " ('ru', 'karukaru'),\n",
       " ('ka', 'karukaru'),\n",
       " ('ru', 'karukaru'),\n",
       " ('ka', 'karukava'),\n",
       " ('ru', 'karukava'),\n",
       " ('ka', 'karukava'),\n",
       " ('va', 'karukava'),\n",
       " ('ru', 'Karuru'),\n",
       " ('ru', 'Karuru'),\n",
       " ('ka', 'karutu'),\n",
       " ('ru', 'karutu'),\n",
       " ('tu', 'karutu'),\n",
       " ('ka', 'karuvira'),\n",
       " ('ru', 'karuvira'),\n",
       " ('vi', 'karuvira'),\n",
       " ('ra', 'karuvira'),\n",
       " ('ka', 'kasi'),\n",
       " ('si', 'kasi'),\n",
       " ('ka', 'kasi'),\n",
       " ('si', 'kasi'),\n",
       " ('ka', 'kasi'),\n",
       " ('si', 'kasi'),\n",
       " ('ka', 'kasiarao'),\n",
       " ('si', 'kasiarao'),\n",
       " ('ra', 'kasiarao'),\n",
       " ('ka', 'kasiava'),\n",
       " ('si', 'kasiava'),\n",
       " ('va', 'kasiava'),\n",
       " ('ka', 'kasikasi'),\n",
       " ('si', 'kasikasi'),\n",
       " ('ka', 'kasikasi'),\n",
       " ('si', 'kasikasi'),\n",
       " ('si', 'Kasikasiua'),\n",
       " ('ka', 'Kasikasiua'),\n",
       " ('si', 'Kasikasiua'),\n",
       " ('ka', 'kasipie'),\n",
       " ('si', 'kasipie'),\n",
       " ('pi', 'kasipie'),\n",
       " ('ka', 'kasipu'),\n",
       " ('si', 'kasipu'),\n",
       " ('pu', 'kasipu'),\n",
       " ('ka', 'kasipupie'),\n",
       " ('si', 'kasipupie'),\n",
       " ('pu', 'kasipupie'),\n",
       " ('pi', 'kasipupie'),\n",
       " ('ka', 'kasipuvira'),\n",
       " ('si', 'kasipuvira'),\n",
       " ('pu', 'kasipuvira'),\n",
       " ('vi', 'kasipuvira'),\n",
       " ('ra', 'kasipuvira'),\n",
       " ('ka', 'kasirao'),\n",
       " ('si', 'kasirao'),\n",
       " ('ra', 'kasirao'),\n",
       " ('ka', 'kasiraopie'),\n",
       " ('si', 'kasiraopie'),\n",
       " ('ra', 'kasiraopie'),\n",
       " ('pi', 'kasiraopie'),\n",
       " ('ka', 'kasiraovira'),\n",
       " ('si', 'kasiraovira'),\n",
       " ('ra', 'kasiraovira'),\n",
       " ('vi', 'kasiraovira'),\n",
       " ('ra', 'kasiraovira'),\n",
       " ('ka', 'kasiu'),\n",
       " ('si', 'kasiu'),\n",
       " ('ka', 'kasiura'),\n",
       " ('si', 'kasiura'),\n",
       " ('ra', 'kasiura'),\n",
       " ('ka', 'kasivari'),\n",
       " ('si', 'kasivari'),\n",
       " ('va', 'kasivari'),\n",
       " ('ri', 'kasivari'),\n",
       " ('ka', 'kasuari'),\n",
       " ('su', 'kasuari'),\n",
       " ('ri', 'kasuari'),\n",
       " ('ka', 'kata'),\n",
       " ('ta', 'kata'),\n",
       " ('ka', 'katai'),\n",
       " ('ta', 'katai'),\n",
       " ('ka', 'kataitoarei'),\n",
       " ('ta', 'kataitoarei'),\n",
       " ('to', 'kataitoarei'),\n",
       " ('re', 'kataitoarei'),\n",
       " ('ka', 'katakatai'),\n",
       " ('ta', 'katakatai'),\n",
       " ('ka', 'katakatai'),\n",
       " ('ta', 'katakatai'),\n",
       " ('ka', 'katakataivira'),\n",
       " ('ta', 'katakataivira'),\n",
       " ('ka', 'katakataivira'),\n",
       " ('ta', 'katakataivira'),\n",
       " ('vi', 'katakataivira'),\n",
       " ('ra', 'katakataivira'),\n",
       " ('ka', 'kataraua'),\n",
       " ('ta', 'kataraua'),\n",
       " ('ra', 'kataraua'),\n",
       " ('ka', 'katarauto'),\n",
       " ('ta', 'katarauto'),\n",
       " ('ra', 'katarauto'),\n",
       " ('to', 'katarauto'),\n",
       " ('ka', 'katavira'),\n",
       " ('ta', 'katavira'),\n",
       " ('vi', 'katavira'),\n",
       " ('ra', 'katavira'),\n",
       " ('ka', 'katokato'),\n",
       " ('to', 'katokato'),\n",
       " ('ka', 'katokato'),\n",
       " ('to', 'katokato'),\n",
       " ('ka', 'katokatoto'),\n",
       " ('to', 'katokatoto'),\n",
       " ('ka', 'katokatoto'),\n",
       " ('to', 'katokatoto'),\n",
       " ('to', 'katokatoto'),\n",
       " ('ka', 'katokatovira'),\n",
       " ('to', 'katokatovira'),\n",
       " ('ka', 'katokatovira'),\n",
       " ('to', 'katokatovira'),\n",
       " ('vi', 'katokatovira'),\n",
       " ('ra', 'katokatovira'),\n",
       " ('ka', 'katokoi'),\n",
       " ('to', 'katokoi'),\n",
       " ('ko', 'katokoi'),\n",
       " ('ka', 'katopato'),\n",
       " ('to', 'katopato'),\n",
       " ('pa', 'katopato'),\n",
       " ('to', 'katopato'),\n",
       " ('ka', 'katoto'),\n",
       " ('to', 'katoto'),\n",
       " ('to', 'katoto'),\n",
       " ('ka', 'katuara'),\n",
       " ('tu', 'katuara'),\n",
       " ('ra', 'katuara'),\n",
       " ('ka', 'katuarato'),\n",
       " ('tu', 'katuarato'),\n",
       " ('ra', 'katuarato'),\n",
       " ('to', 'katuarato'),\n",
       " ('ka', 'katukatu'),\n",
       " ('tu', 'katukatu'),\n",
       " ('ka', 'katukatu'),\n",
       " ('tu', 'katukatu'),\n",
       " ('ka', 'katuta'),\n",
       " ('tu', 'katuta'),\n",
       " ('ta', 'katuta'),\n",
       " ('ka', 'kau'),\n",
       " ('ka', 'kaukau'),\n",
       " ('ka', 'kaukau'),\n",
       " ('ka', 'kaukaupie'),\n",
       " ('ka', 'kaukaupie'),\n",
       " ('pi', 'kaukaupie'),\n",
       " ('ka', 'kaukauvira'),\n",
       " ('ka', 'kaukauvira'),\n",
       " ('vi', 'kaukauvira'),\n",
       " ('ra', 'kaukauvira'),\n",
       " ('ka', 'kaukovo'),\n",
       " ('ko', 'kaukovo'),\n",
       " ('vo', 'kaukovo'),\n",
       " ('ka', 'kauo'),\n",
       " ('ka', 'kauokauo'),\n",
       " ('ka', 'kauokauo'),\n",
       " ('ka', 'kaureo'),\n",
       " ('re', 'kaureo'),\n",
       " ('ka', 'kaureoto'),\n",
       " ('re', 'kaureoto'),\n",
       " ('to', 'kaureoto'),\n",
       " ('ka', 'kausiopa'),\n",
       " ('si', 'kausiopa'),\n",
       " ('pa', 'kausiopa'),\n",
       " ('ka', 'kausiovira'),\n",
       " ('si', 'kausiovira'),\n",
       " ('vi', 'kausiovira'),\n",
       " ('ra', 'kausiovira'),\n",
       " ('va', 'Kava'),\n",
       " ('ka', 'kavakavau'),\n",
       " ('va', 'kavakavau'),\n",
       " ('ka', 'kavakavau'),\n",
       " ('va', 'kavakavau'),\n",
       " ('ka', 'kavatao'),\n",
       " ('va', 'kavatao'),\n",
       " ('ta', 'kavatao'),\n",
       " ('va', 'Kavatara'),\n",
       " ('ta', 'Kavatara'),\n",
       " ('ra', 'Kavatara'),\n",
       " ('ka', 'kavau'),\n",
       " ('va', 'kavau'),\n",
       " ('ka', 'kavau'),\n",
       " ('va', 'kavau'),\n",
       " ('ka', 'kavau asiava'),\n",
       " ('va', 'kavau asiava'),\n",
       " ('si', 'kavau asiava'),\n",
       " ('va', 'kavau asiava'),\n",
       " ('ka', 'kave'),\n",
       " ('ve', 'kave'),\n",
       " ('ka', 'kavee'),\n",
       " ('ve', 'kavee'),\n",
       " ('ka', 'kaveepaa'),\n",
       " ('ve', 'kaveepaa'),\n",
       " ('pa', 'kaveepaa'),\n",
       " ('ka', 'kaverui'),\n",
       " ('ve', 'kaverui'),\n",
       " ('ru', 'kaverui'),\n",
       " ('ka', 'kaveruko'),\n",
       " ('ve', 'kaveruko'),\n",
       " ('ru', 'kaveruko'),\n",
       " ('ko', 'kaveruko'),\n",
       " ('ka', 'kavesi'),\n",
       " ('ve', 'kavesi'),\n",
       " ('si', 'kavesi'),\n",
       " ('ka', 'kavikavi'),\n",
       " ('vi', 'kavikavi'),\n",
       " ('ka', 'kavikavi'),\n",
       " ('vi', 'kavikavi'),\n",
       " ('ka', 'kavikaviru'),\n",
       " ('vi', 'kavikaviru'),\n",
       " ('ka', 'kavikaviru'),\n",
       " ('vi', 'kavikaviru'),\n",
       " ('ru', 'kavikaviru'),\n",
       " ('ka', 'kavikaviru'),\n",
       " ('vi', 'kavikaviru'),\n",
       " ('ka', 'kavikaviru'),\n",
       " ('vi', 'kavikaviru'),\n",
       " ('ru', 'kavikaviru'),\n",
       " ('ka', 'kaviko'),\n",
       " ('vi', 'kaviko'),\n",
       " ('ko', 'kaviko'),\n",
       " ('ka', 'kavikoa'),\n",
       " ('vi', 'kavikoa'),\n",
       " ('ko', 'kavikoa'),\n",
       " ('ka', 'kaviru'),\n",
       " ('vi', 'kaviru'),\n",
       " ('ru', 'kaviru'),\n",
       " ('ka', 'kaviru'),\n",
       " ('vi', 'kaviru'),\n",
       " ('ru', 'kaviru'),\n",
       " ('ka', 'kaviruto'),\n",
       " ('vi', 'kaviruto'),\n",
       " ('ru', 'kaviruto'),\n",
       " ('to', 'kaviruto'),\n",
       " ('ka', 'kaviruvira'),\n",
       " ('vi', 'kaviruvira'),\n",
       " ('ru', 'kaviruvira'),\n",
       " ('vi', 'kaviruvira'),\n",
       " ('ra', 'kaviruvira'),\n",
       " ('ka', 'kavo'),\n",
       " ('vo', 'kavo'),\n",
       " ('ka', 'kavokavo'),\n",
       " ('vo', 'kavokavo'),\n",
       " ('ka', 'kavokavo'),\n",
       " ('vo', 'kavokavo'),\n",
       " ('ka', 'kavokavoa'),\n",
       " ('vo', 'kavokavoa'),\n",
       " ('ka', 'kavokavoa'),\n",
       " ('vo', 'kavokavoa'),\n",
       " ('ka', 'kavokavoto'),\n",
       " ('vo', 'kavokavoto'),\n",
       " ('ka', 'kavokavoto'),\n",
       " ('vo', 'kavokavoto'),\n",
       " ('to', 'kavokavoto'),\n",
       " ('ka', 'kavora'),\n",
       " ('vo', 'kavora'),\n",
       " ('ra', 'kavora'),\n",
       " ('ka', 'kavorato'),\n",
       " ('vo', 'kavorato'),\n",
       " ('ra', 'kavorato'),\n",
       " ('to', 'kavorato'),\n",
       " ('ka', 'kavori'),\n",
       " ('vo', 'kavori'),\n",
       " ('ri', 'kavori'),\n",
       " ('ka', 'kavori'),\n",
       " ('vo', 'kavori'),\n",
       " ('ri', 'kavori'),\n",
       " ('ka', 'kavorou'),\n",
       " ('vo', 'kavorou'),\n",
       " ('ro', 'kavorou'),\n",
       " ('ka', 'kavovoa'),\n",
       " ('vo', 'kavovoa'),\n",
       " ('vo', 'kavovoa'),\n",
       " ('ka', 'kavovovira'),\n",
       " ('vo', 'kavovovira'),\n",
       " ('vo', 'kavovovira'),\n",
       " ('vi', 'kavovovira'),\n",
       " ('ra', 'kavovovira'),\n",
       " ('ka', 'kavu'),\n",
       " ('vu', 'kavu'),\n",
       " ('ka', 'kavu'),\n",
       " ('vu', 'kavu'),\n",
       " ('ka', 'kavuava'),\n",
       " ('vu', 'kavuava'),\n",
       " ('va', 'kavuava'),\n",
       " ('ka', 'kavupie'),\n",
       " ('vu', 'kavupie'),\n",
       " ('pi', 'kavupie'),\n",
       " ('ka', 'kavura'),\n",
       " ('vu', 'kavura'),\n",
       " ('ra', 'kavura'),\n",
       " ('ka', 'kavurao'),\n",
       " ('vu', 'kavurao'),\n",
       " ('ra', 'kavurao'),\n",
       " ('ka', 'kavusi'),\n",
       " ('vu', 'kavusi'),\n",
       " ('si', 'kavusi'),\n",
       " ('ka', 'kavuvo'),\n",
       " ('vu', 'kavuvo'),\n",
       " ('vo', 'kavuvo'),\n",
       " ('ke', 'kea'),\n",
       " ('ke', 'keakea'),\n",
       " ('ke', 'keakea'),\n",
       " ('ke', 'keakeato'),\n",
       " ('ke', 'keakeato'),\n",
       " ('to', 'keakeato'),\n",
       " ('ke', 'keari'),\n",
       " ...]"
      ]
     },
     "execution_count": 32,
     "metadata": {},
     "output_type": "execute_result"
    }
   ],
   "source": [
    "cv_word_pairs"
   ]
  },
  {
   "cell_type": "code",
   "execution_count": 35,
   "metadata": {},
   "outputs": [
    {
     "name": "stdout",
     "output_type": "stream",
     "text": [
      "defaultdict(<class 'list'>, {'ka': ['kaa', 'kaa', 'kaa', 'kaakaaro', 'kaakaaro', 'kaakaaviko', 'kaakaaviko', 'kaakaavo', 'kaakaavo', 'kaakaoko', 'kaakaoko', 'kaakasi', 'kaakasi', 'kaakau', 'kaakau', 'kaakauko', 'kaakauko', 'kaakito', 'kaakuupato', 'kaaova', 'kaapa', 'kaapea', 'kaapie', 'kaapie', 'kaapiepato', 'kaapisi', 'kaapisivira', 'kaapo', 'kaapopato', 'kaara', 'kaare', 'kaareko', 'kaarekopie', 'kaareto', 'kaava', 'kaavaaua', 'kaaveaka', 'kaaveaka', 'kaaveakapie', 'kaaveakapie', 'kaaveakapievira', 'kaaveakapievira', 'kaaveakavira', 'kaaveakavira', 'kae', 'kae', 'kaekae', 'kaekae', 'kaekae', 'kaekae', 'kaekaearo', 'kaekaearo', 'kaekaeo', 'kaekaeo', 'kaekaesoto', 'kaekaesoto', 'kaekaevira', 'kaekaevira', 'kaekeru', 'kaepaa', 'kaepie', 'kaepie', 'kaepievira', 'kaereasi', 'kaereasivira', 'kaetu', 'kaetupie', 'kaetuvira', 'kaeviro', 'kagave', 'kaie', 'kaiea', 'kaikaio', 'kaikaio', 'kaipori', 'kaiporipie', 'kaiporivira', 'kairi', 'kairiro', 'kairo', 'kaita', 'kaitutu', 'kaitutupie', 'kaitutuvira', 'kakae', 'kakae', 'kakae', 'kakae', 'kakae', 'kakae', 'kakaevira', 'kakaevira', 'kakapikoa', 'kakapikoa', 'kakapikoto', 'kakapikoto', 'kakapu', 'kakapu', 'kakapua', 'kakapua', 'kakara', 'kakara', 'Kakarapaia', 'kakarau', 'kakarau', 'Kakarera', 'kakata', 'kakata', 'kakate', 'kakate', 'kakatuara', 'kakatuara', 'kakau', 'kakau', 'kakauoa', 'kakauoa', 'kakavea', 'kakavea', 'kakavoro', 'kakavoro', 'kakavu', 'kakavu', 'kakeoto', 'kaki', 'kaki', 'kakiaki', 'kakiri', 'kakiua', 'kaku', 'kakua', 'kakuaku', 'kakupaa', 'kakuparei', 'kakupato', 'kakupie', 'kakupute', 'kakutauo', 'kakuto', 'kakutuiato', 'kakuva', 'kakuvira', 'kameoro', 'kandora', 'kaokao', 'kaokao', 'kaokaoara', 'kaokaoara', 'kaokaoto', 'kaokaoto', 'kapa', 'kapa', 'kapaava', 'kapai', 'kapara', 'kaparu', 'kaparuvira', 'kapatau', 'kapatoro', 'kapatoroto', 'kape', 'kapeaa', 'kapeaa', 'kapeaavira', 'kapekape', 'kapekape', 'kapekapevira', 'kapekapevira', 'kapere', 'kaperepie', 'kapi', 'kapiaa', 'kapiaavira', 'kapikapi', 'kapikapi', 'kapiro', 'kapiroa', 'kapiroko', 'kapisi', 'kapisito', 'kapiu', 'kapiua', 'kapo', 'kapoa', 'kapokao', 'kapokao', 'kapokapo', 'kapokapo', 'kapokapoa', 'kapokapoa', 'kapokapora', 'kapokapora', 'kapokaporo', 'kapokaporo', 'kapokari', 'kapokari', 'kapokarito', 'kapokarito', 'kapokoa', 'kapoo', 'kapooto', 'kapoovira', 'kapopaa', 'kaporo', 'kaporo', 'kaporopa', 'kaporoto', 'kapoto', 'kapu', 'kapua', 'kapua', 'kapuapato', 'kapuapie', 'kapuasisi', 'kapupie', 'kapupiea', 'kapupiepaa', 'kapuu', 'kapuupie', 'kapuupiepa', 'kara', 'karaava', 'karakarao', 'karakarao', 'karakaraoa', 'karakaraoa', 'karakaraoto', 'karakaraoto', 'karakaraovira', 'karakaraovira', 'karakaroto', 'karakaroto', 'karakuku', 'karaova', 'karapi', 'karapivira', 'karara', 'karata', 'karato', 'karavau', 'karavisi', 'karavisito', 'karavuru', 'kare', 'kare', 'karekare', 'karekare', 'karekare', 'karekare', 'karekarererava', 'karekarererava', 'karekareto', 'karekareto', 'kareke', 'karekepie', 'karekova', 'kareo', 'kareovira', 'karepie', 'karepieto', 'kari', 'karia', 'kariava', 'karikari', 'karikari', 'karirapa', 'karisito', 'karivai', 'karivaito', 'karivara', 'karo', 'karokaropo', 'karokaropo', 'karopato', 'karopo', 'karot', 'karoto', 'karova', 'karu', 'karuka', 'karuka', 'karukaru', 'karukaru', 'karukava', 'karukava', 'karutu', 'karuvira', 'kasi', 'kasi', 'kasi', 'kasiarao', 'kasiava', 'kasikasi', 'kasikasi', 'Kasikasiua', 'kasipie', 'kasipu', 'kasipupie', 'kasipuvira', 'kasirao', 'kasiraopie', 'kasiraovira', 'kasiu', 'kasiura', 'kasivari', 'kasuari', 'kata', 'katai', 'kataitoarei', 'katakatai', 'katakatai', 'katakataivira', 'katakataivira', 'kataraua', 'katarauto', 'katavira', 'katokato', 'katokato', 'katokatoto', 'katokatoto', 'katokatovira', 'katokatovira', 'katokoi', 'katopato', 'katoto', 'katuara', 'katuarato', 'katukatu', 'katukatu', 'katuta', 'kau', 'kaukau', 'kaukau', 'kaukaupie', 'kaukaupie', 'kaukauvira', 'kaukauvira', 'kaukovo', 'kauo', 'kauokauo', 'kauokauo', 'kaureo', 'kaureoto', 'kausiopa', 'kausiovira', 'kavakavau', 'kavakavau', 'kavatao', 'kavau', 'kavau', 'kavau asiava', 'kave', 'kavee', 'kaveepaa', 'kaverui', 'kaveruko', 'kavesi', 'kavikavi', 'kavikavi', 'kavikaviru', 'kavikaviru', 'kavikaviru', 'kavikaviru', 'kaviko', 'kavikoa', 'kaviru', 'kaviru', 'kaviruto', 'kaviruvira', 'kavo', 'kavokavo', 'kavokavo', 'kavokavoa', 'kavokavoa', 'kavokavoto', 'kavokavoto', 'kavora', 'kavorato', 'kavori', 'kavori', 'kavorou', 'kavovoa', 'kavovovira', 'kavu', 'kavu', 'kavuava', 'kavupie', 'kavura', 'kavurao', 'kavusi', 'kavuvo', 'keoka', 'Kereaka', 'Keriaka', 'ketaka', 'ketakaa', 'kiikariko', 'kikisikae', 'kirikaokao', 'kirikaokao', 'koka', 'kokai', 'kokara', 'kokaraa', 'kokarapato', 'kookaa', 'kookai', 'kopakai', 'kopakava', 'kopikao', 'korekare', 'kovuaka', 'kuka', 'kukara', 'kukauviro', 'kurikaakaakuto', 'kurikaakaakuto', 'kurikasi', 'kurikasivira'], 'ro': ['kaakaaro', 'kaekaearo', 'kaeviro', 'kairiro', 'kairo', 'kakavoro', 'kameoro', 'kapatoro', 'kapatoroto', 'kapiro', 'kapiroa', 'kapiroko', 'kapokaporo', 'kaporo', 'kaporo', 'kaporopa', 'kaporoto', 'karakaroto', 'karo', 'karokaropo', 'karokaropo', 'karopato', 'karopo', 'karot', 'karoto', 'karova', 'kavorou', 'kepiro', 'keroroi', 'keroroi', 'kerosiri', 'ketoroa', 'kiro', 'kirokiro', 'kirokiro', 'kirokiro', 'kirokiro', 'kirokiropato', 'kirokiropato', 'kiroko', 'kokoro', 'kokoroki', 'kokoroku', 'kokorokupie', 'kokoropato', 'kokorosi', 'kokorovira', 'kooroo', 'koorooto', 'koorooto', 'kooroovira', 'kopirovu', 'kopuro', 'kopuvioro', 'koro', 'kororo', 'kororo', 'kororo', 'kororo', 'kororoisivira', 'kororoisivira', 'kororovi', 'kororovi', 'kororovivira', 'kororovivira', 'kororu', 'kororupie', 'koroto', 'koroviri', 'korovo', 'kosiviro', 'kovaaro', 'kovikoro', 'kovuaro', 'kukauviro', 'kupero', 'kuperoo', 'kuperovira', 'kuroa', 'kuroea', 'kurokuro', 'kurokuro', 'kurokuroto', 'kurokuroto', 'kuroo', 'kurooro', 'kurooro', 'kurovira', 'kuvoro'], 'vi': ['kaakaaviko', 'kaapisivira', 'kaaveakapievira', 'kaaveakavira', 'kaekaevira', 'kaepievira', 'kaereasivira', 'kaetuvira', 'kaeviro', 'kaiporivira', 'kaitutuvira', 'kakaevira', 'kakuvira', 'kaparuvira', 'kapeaavira', 'kapekapevira', 'kapiaavira', 'kapoovira', 'karakaraovira', 'karapivira', 'karavisi', 'karavisito', 'kareovira', 'karuvira', 'kasipuvira', 'kasiraovira', 'katakataivira', 'katavira', 'katokatovira', 'kaukauvira', 'kausiovira', 'kavikavi', 'kavikavi', 'kavikaviru', 'kavikaviru', 'kavikaviru', 'kavikaviru', 'kaviko', 'kavikoa', 'kaviru', 'kaviru', 'kaviruto', 'kaviruvira', 'kaviruvira', 'kavovovira', 'keavira', 'keevuruvira', 'kekeputuvira', 'kekeraokovira', 'kekevotovira', 'keovira', 'keravisi', 'keravisia', 'kerisivira', 'keruriavira', 'kesievira', 'kesivira', 'kevira', 'kevisi', 'kevoisivira', 'kipuvira', 'koetavira', 'koikevira', 'koivira', 'kokivira', 'kokopekovira', 'kokopuovira', 'kokopuvira', 'kokorivira', 'kokorovira', 'kokovaravira', 'kookuvira', 'kooroovira', 'kopakovira', 'kopuasitovira', 'kopuasivira', 'kopuvioro', 'kopuvira', 'korauvira', 'kororoisivira', 'kororovi', 'kororovivira', 'kororovivira', 'koroviri', 'koruovira', 'korupievira', 'kosiviro', 'kotovira', 'kovatavira', 'Kovia', 'kovikoro', 'kovire', 'kovirea', 'kovukovuvira', 'kovurukovira', 'kovuruvira', 'kukauviro', 'kukuvita', 'kuperovira', 'kurikasivira', 'kurovira', 'kuuvavira', 'kuuvuvira', 'kuvauvira', 'kuverevira'], 'ko': ['kaakaaviko', 'kaakaoko', 'kaakauko', 'kaareko', 'kaarekopie', 'kakapikoa', 'kakapikoto', 'kapiroko', 'kapokoa', 'karekova', 'katokoi', 'kaukovo', 'kaveruko', 'kaviko', 'kavikoa', 'kekeraokovira', 'kepiko', 'kepiriko', 'kerekoi', 'kiikariko', 'kikiraeko', 'kikoo', 'kiroko', 'koa', 'koai', 'koakoa', 'koakoa', 'koakoa', 'koakoa', 'koara', 'koarao', 'koaraua', 'koarava', 'koasio', 'koata', 'koatapie', 'koauve', 'koavaato', 'koe', 'koea', 'koekoe', 'koekoe', 'koekoeto', 'koekoeto', 'koepato', 'koeta', 'koetaova', 'koetapie', 'koetava', 'koetavira', 'koeto', 'kogo', 'kogova', 'koi', 'koie', 'koie', 'koike', 'koiketo', 'koikevira', 'koikoi', 'koikoi', 'koikoipato', 'koikoipato', 'koikoipie', 'koikoipie', 'koikoito', 'koikoito', 'koisi', 'koisiva', 'koivira', 'koka', 'kokai', 'kokara', 'kokaraa', 'kokarapato', 'koke', 'kokee', 'kokepato', 'kokepato', 'kokepie', 'kokerao', 'kokeriva', 'kokeu', 'kokeva', 'koki', 'kokio', 'kokito', 'kokivira', 'koko', 'koko', 'koko', 'koko', 'kokoi', 'kokoi', 'kokoisi', 'kokoisi', 'kokokoru', 'kokokoru', 'kokokoru', 'kokoo', 'kokoo', 'kokooko', 'kokooko', 'kokooko', 'kokookoa', 'kokookoa', 'kokookoa', 'kokoote', 'kokoote', 'kokootu', 'kokootu', 'kokopa', 'kokopa', 'kokopakou', 'kokopakou', 'kokopakou', 'kokopeko', 'kokopeko', 'kokopeko', 'kokopekovira', 'kokopekovira', 'kokopekovira', 'kokopeoto', 'kokopeoto', 'kokopuoto', 'kokopuoto', 'kokopuovira', 'kokopuovira', 'Kokopuru', 'kokopuvira', 'kokopuvira', 'kokora', 'kokora', 'kokorai', 'kokorai', 'kokorato', 'kokorato', 'kokori', 'kokori', 'kokorivira', 'kokorivira', 'kokoro', 'kokoro', 'kokoroki', 'kokoroki', 'kokoroku', 'kokoroku', 'kokorokupie', 'kokorokupie', 'kokoropato', 'kokoropato', 'kokorosi', 'kokorosi', 'kokorovira', 'kokorovira', 'kokoru', 'kokoru', 'kokoruu', 'kokoruu', 'kokoruu', 'kokoruu', 'kokosi', 'kokosi', 'kokosi', 'kokosi', 'Kokosiria', 'kokosito', 'kokosito', 'kokosiva', 'kokosiva', 'kokotagoe', 'kokotagoe', 'kokote', 'kokote', 'kokoto', 'kokoto', 'kokotu', 'kokotu', 'kokotua', 'kokotua', 'kokotuo', 'kokotuo', 'kokovae', 'kokovae', 'kokovaeva', 'kokovaeva', 'kokovara', 'kokovara', 'kokovara', 'kokovara', 'kokovaravira', 'kokovaravira', 'kokovu', 'kokovu', 'kokovua', 'kokovua', 'kokovua', 'kokovua', 'kokovua', 'kokovua', 'kokovupaparie', 'kokovupaparie', 'kokovurito', 'kokovurito', 'koku', 'kokuoku', 'kokureko', 'kokureko', 'kokuuto', 'kooe', 'kookaa', 'kookai', 'kookoo', 'kookoo', 'kookooia', 'kookooia', 'kookoopeko', 'kookoopeko', 'kookoopeko', 'kookoopi', 'kookoopi', 'kooku', 'kookuto', 'kookuvira', 'koopi', 'koopipi', 'koora', 'kooroo', 'koorooto', 'koorooto', 'kooroovira', 'kooru', 'koota', 'kootopa', 'kootutu', 'koou', 'kooupato', 'koova', 'koova', 'koovoto', 'koovotova', 'kopa', 'kopakai', 'kopakava', 'kopakopa', 'kopakopa', 'kopakovira', 'kopakovira', 'kopato', 'kopii', 'kopiia', 'kopiipato', 'kopiipie', 'kopiito', 'kopikao', 'kopikopi', 'kopikopi', 'kopikopiara', 'kopikopiara', 'kopipi', 'kopirovu', 'kopu', 'kopua', 'kopuasi', 'kopuasipie', 'kopuasito', 'kopuasitovira', 'kopuasivira', 'kopukopu', 'kopukopu', 'kopukopua', 'kopukopua', 'kopupa', 'kopupira', 'kopuro', 'kopuvioro', 'kopuvira', 'kora', 'korapato', 'korara', 'koraraoko', 'koraraoko', 'korau', 'koraua', 'korauru', 'korauvira', 'korea', 'korekare', 'korereto', 'kori', 'koria', 'korikori', 'korikori', 'korikoripava', 'korikoripava', 'korita', 'korita', 'koriteira', 'koro', 'kororo', 'kororo', 'kororoisivira', 'kororovi', 'kororovivira', 'kororu', 'kororupie', 'koroto', 'koroviri', 'korovo', 'koru', 'Koruko', 'korukoru', 'korukoru', 'korukorupato', 'korukorupato', 'koruo', 'koruoto', 'koruou', 'koruoua', 'koruovira', 'korupie', 'korupievira', 'kosi', 'kosikosi', 'kosikosi', 'kosikosi', 'kosikosi', 'kosipa', 'kosipato', 'kosipie', 'kosivago', 'kosiviro', 'koto', 'kotokoto', 'kotokoto', 'kotokotoara', 'kotokotoara', 'kotopa', 'kotopa', 'kotovira', 'kotu', 'kotukotu', 'kotukotu', 'kotupiua', 'koturu', 'kou', 'kou', 'koue', 'koue', 'koui', 'koukou', 'koukou', 'koukouo', 'koukouo', 'koukouo', 'koukouo', 'kova', 'kovaaro', 'kovaeto', 'kovaii', 'kovakovara', 'kovakovara', 'kovapato', 'kovarato', 'kovarua', 'kovasi', 'kovata', 'kovatavira', 'kovato', 'kovauke', 'kove', 'kove', 'kovea', 'kovekove', 'kovekove', 'koveoapa', 'koveva', 'kovikoro', 'kovikoro', 'kovire', 'kovirea', 'kovo', 'kovo', 'kovo', 'kovoa', 'kovokovo', 'kovokovo', 'kovokovo', 'kovokovo', 'kovokovo', 'kovokovo', 'kovokovoa', 'kovokovoa', 'kovopaa', 'kovopato', 'kovopie', 'kovoruko', 'kovoruko', 'kovoto', 'kovovo', 'kovuaka', 'kovuaro', 'kovukovu', 'kovukovu', 'kovukovuto', 'kovukovuto', 'kovukovuvira', 'kovukovuvira', 'kovuru', 'kovurui', 'kovuruko', 'kovuruko', 'kovurukovira', 'kovurukovira', 'kovuruvira', 'kovuto', 'kukuriko', 'kukurikoto', 'kurikoko', 'kurikoko'], 'vo': ['kaakaavo', 'kakavoro', 'kaukovo', 'kavo', 'kavokavo', 'kavokavo', 'kavokavoa', 'kavokavoa', 'kavokavoto', 'kavokavoto', 'kavora', 'kavorato', 'kavori', 'kavori', 'kavorou', 'kavovoa', 'kavovoa', 'kavovovira', 'kavovovira', 'kavuvo', 'kekevoto', 'kekevotovira', 'keravo', 'kevoisi', 'kevoisivira', 'koovoto', 'koovotova', 'korovo', 'kovo', 'kovo', 'kovo', 'kovoa', 'kovokovo', 'kovokovo', 'kovokovo', 'kovokovo', 'kovokovo', 'kovokovo', 'kovokovoa', 'kovokovoa', 'kovopaa', 'kovopato', 'kovopie', 'kovoruko', 'kovoto', 'kovovo', 'kovovo', 'kuvoro'], 'si': ['kaakasi', 'kaapisi', 'kaapisivira', 'kaereasi', 'kaereasivira', 'kapisi', 'kapisito', 'kapuasisi', 'kapuasisi', 'karavisi', 'karavisito', 'karisito', 'kasi', 'kasi', 'kasi', 'kasiarao', 'kasiava', 'kasikasi', 'kasikasi', 'Kasikasiua', 'Kasikasiua', 'kasipie', 'kasipu', 'kasipupie', 'kasipuvira', 'kasirao', 'kasiraopie', 'kasiraovira', 'kasiu', 'kasiura', 'kasivari', 'kausiopa', 'kausiovira', 'kavau asiava', 'kavesi', 'kavusi', 'keesi', 'kepisi', 'kepisiva', 'keposi', 'keravisi', 'keravisia', 'kerikerisi', 'kerisi', 'kerisito', 'kerisivira', 'kerosiri', 'kesi', 'kesie', 'kesievira', 'kesikea vaaguru', 'kesio', 'kesioto', 'kesivira', 'kevisi', 'kevoisi', 'kevoisivira', 'kikipisi', 'kikisi', 'kikisikae', 'kikisiova', 'kikitausi', 'koasio', 'koisi', 'koisiva', 'kokoisi', 'kokorosi', 'kokosi', 'kokosi', 'Kokosiria', 'kokosito', 'kokosiva', 'kopuasi', 'kopuasipie', 'kopuasito', 'kopuasitovira', 'kopuasivira', 'Kopuisi', 'kororoisivira', 'kosi', 'kosikosi', 'kosikosi', 'kosikosi', 'kosikosi', 'kosipa', 'kosipato', 'kosipie', 'kosivago', 'kosiviro', 'kovasi', 'kuiopesi', 'kukusiri', 'kurasia', 'kurasia', 'kurikasi', 'kurikasivira', 'Kusi', 'kusii', 'kusike', 'kusito'], 'ki': ['kaakito', 'kaki', 'kaki', 'kakiaki', 'kakiaki', 'kakiri', 'kakiua', 'kekira', 'kie', 'kii', 'kiikariko', 'kiipie', 'kiire', 'kiire', 'kiiru', 'kiiuto', 'kiki', 'kiki', 'kiki', 'kiki', 'kikipi', 'kikipi', 'kikipisi', 'kikipisi', 'kikira', 'kikira', 'kikiraeko', 'kikiraeko', 'kikisi', 'kikisi', 'kikisikae', 'kikisikae', 'kikisiova', 'kikisiova', 'kikitausi', 'kikitausi', 'kikoo', 'kilia', 'kio', 'kipa', 'kipapie', 'kipe', 'kipekipe', 'kipekipe', 'kipekipea', 'kipekipea', 'kipeto', 'kipu', 'kipukipu', 'kipukipu', 'kipupaa', 'kipupato', 'kipuvira', 'kira', 'kirava', 'kire', 'kiri', 'kirikaokao', 'kirioto', 'kiro', 'kirokiro', 'kirokiro', 'kirokiro', 'kirokiro', 'kirokiropato', 'kirokiropato', 'kiroko', 'kiru', 'kirukiru', 'kirukiru', 'kirukirua', 'kirukirua', 'kirupato', 'kitoiva', 'kitu', 'kitukitu', 'kitukitu', 'kiu', 'kiupie', 'kiuto', 'kiuve', 'kiuvu', 'koki', 'kokio', 'Kokipaia', 'kokito', 'kokivira', 'kokoroki', 'kukiuki', 'kukiuki', 'kukiukia', 'kukiukia', 'kuuvaki', 'kuuvakito'], 'to': ['kaakito', 'kaakuupato', 'kaapiepato', 'kaapopato', 'kaareto', 'kaekaesoto', 'kakapikoto', 'kakeoto', 'kakupato', 'kakuto', 'kakutuiato', 'kaokaoto', 'kapatoro', 'kapatoroto', 'kapatoroto', 'kapisito', 'kapokarito', 'kapooto', 'kaporoto', 'kapoto', 'kapuapato', 'karakaraoto', 'karakaroto', 'karato', 'karavisito', 'karekareto', 'karepieto', 'karisito', 'karivaito', 'karopato', 'karoto', 'kataitoarei', 'katarauto', 'katokato', 'katokato', 'katokatoto', 'katokatoto', 'katokatoto', 'katokatovira', 'katokatovira', 'katokoi', 'katopato', 'katopato', 'katoto', 'katoto', 'katuarato', 'kaureoto', 'kaviruto', 'kavokavoto', 'kavorato', 'keakeato', 'kearito', 'keekeerito', 'kekevoto', 'kekevotovira', 'kepa toupato', 'kepa toupato', 'kepito', 'kepoto', 'kerauto', 'keripato', 'kerisito', 'keruiato', 'keruito', 'keruriato', 'kesioto', 'ketato', 'ketoo', 'ketoo', 'ketoopie', 'ketoopieara', 'ketoroa', 'kevaitato', 'kiiuto', 'kipeto', 'kipupato', 'kirioto', 'kirokiropato', 'kirupato', 'kitoiva', 'kiuto', 'koavaato', 'koekoeto', 'koepato', 'koeto', 'koiketo', 'koikoipato', 'koikoito', 'kokarapato', 'kokepato', 'kokepato', 'kokito', 'kokopeoto', 'kokopuoto', 'kokorato', 'kokoropato', 'kokosito', 'kokoto', 'kokovurito', 'kokuuto', 'kookuto', 'koorooto', 'koorooto', 'kootopa', 'kooupato', 'koovoto', 'koovotova', 'kopato', 'kopiipato', 'kopiito', 'kopuasito', 'kopuasitovira', 'korapato', 'korereto', 'koroto', 'korukorupato', 'koruoto', 'kosipato', 'koto', 'kotokoto', 'kotokoto', 'kotokotoara', 'kotokotoara', 'kotopa', 'kotopa', 'kotovira', 'kovaeto', 'kovapato', 'kovarato', 'kovato', 'kovopato', 'kovoto', 'kovukovuto', 'kovuto', 'kuito', 'kukurikoto', 'kupareto', 'kuriato', 'kurikaakaakuto', 'kurokuroto', 'kusito', 'kuukuuvuto', 'kuuvakito', 'kuuvato', 'kuvato', 'kuvereto', 'kuvupato', 'kuvuto'], 'ku': ['kaakuupato', 'kaku', 'kakua', 'kakuaku', 'kakuaku', 'kakupaa', 'kakuparei', 'kakupato', 'kakupie', 'kakupute', 'kakutauo', 'kakuto', 'kakutuiato', 'kakuva', 'kakuvira', 'karakuku', 'karakuku', 'kokoroku', 'kokorokupie', 'koku', 'kokuoku', 'kokuoku', 'kokureko', 'kokuuto', 'kooku', 'kookuto', 'kookuvira', 'kuara', 'kue', 'kuea', 'kuga', 'kui', 'kuio', 'kuioi', 'kuiopesi', 'kuiopetu', 'kuito', 'kuka', 'kukara', 'kukauviro', 'kukiuki', 'kukiukia', 'kuku', 'kuku', 'kukua', 'kukua', 'kukuaua', 'kukuaua', 'kukue', 'kukue', 'kukue pute', 'kukue pute', 'kukuepaa', 'kukuepaa', 'kukuku', 'kukuku', 'kukuku', 'kukupira', 'kukupira', 'kukuriko', 'kukuriko', 'kukurikoto', 'kukurikoto', 'kukusiri', 'kukusiri', 'kukutauvu', 'kukutauvu', 'kukutu', 'kukutu', 'kukuuku', 'kukuuku', 'kukuuku', 'kukuukua', 'kukuukua', 'kukuukua', 'kukuukupie', 'kukuukupie', 'kukuukupie', 'kukuuvua', 'kukuuvua', 'kukuvai', 'kukuvai', 'kukuvaipaa', 'kukuvaipaa', 'kukuvita', 'kukuvita', 'kukuvua', 'kukuvua', 'Kuokuo', 'kupare', 'kupareto', 'kupekupe', 'kupekupe', 'kupekupepa', 'kupekupepa', 'kupero', 'kuperoo', 'kuperovira', 'kupii', 'kupukupu', 'kupukupu', 'kurae', 'kurasia', 'kurasia', 'kurei', 'kuri', 'kuriato', 'kurikaakaakuto', 'kurikaakaakuto', 'kurikasi', 'kurikasivira', 'kurikoko', 'kurikuri', 'kurikuri', 'kuripaa', 'kuritava', 'kuroa', 'kuroea', 'kurokuro', 'kurokuro', 'kurokuroto', 'kurokuroto', 'kuroo', 'kurooro', 'kurovira', 'kuru', 'kurue', 'kurupi', 'kururai', 'kururu', 'kurutu', 'kusii', 'kusike', 'kusito', 'kuu', 'kuu', 'kuukuuvu', 'kuukuuvu', 'kuukuuvuto', 'kuukuuvuto', 'kuuoa', 'kuupie', 'kuurea', 'kuuri', 'kuuva', 'kuuvaki', 'kuuvakito', 'kuuvato', 'kuuvavira', 'kuuvu', 'kuuvuvira', 'kuva', 'kuvaku', 'kuvaku', 'kuvato', 'kuvau', 'kuvaupie', 'kuvauvira', 'kuvera', 'kuverava', 'kuvere', 'kuverea', 'kuvereto', 'kuverevira', 'kuvoro', 'kuvu', 'kuvuara', 'kuvukuvu', 'kuvukuvu', 'kuvukuvua', 'kuvukuvua', 'kuvupato', 'kuvuto'], 'pa': ['kaakuupato', 'kaapa', 'kaapiepato', 'kaapopato', 'kaepaa', 'Kakarapaia', 'kakupaa', 'kakuparei', 'kakupato', 'kapa', 'kapa', 'kapaava', 'kapai', 'kapara', 'kaparu', 'kaparuvira', 'kapatau', 'kapatoro', 'kapatoroto', 'kapopaa', 'kaporopa', 'kapuapato', 'kapupiepaa', 'kapuupiepa', 'karirapa', 'karopato', 'katopato', 'kausiopa', 'kaveepaa', 'keekeepa', 'kekesopa', 'keopa', 'kepa', 'kepa toupato', 'kepa toupato', 'keripaara', 'keripato', 'kipa', 'kipapie', 'kipupaa', 'kipupato', 'kirokiropato', 'kirupato', 'koepato', 'koikoipato', 'kokarapato', 'kokepato', 'kokepato', 'Kokipaia', 'kokopa', 'kokopakou', 'kokoropato', 'kokovupaparie', 'kokovupaparie', 'kootopa', 'kooupato', 'kopa', 'kopakai', 'kopakava', 'kopakopa', 'kopakopa', 'kopakovira', 'kopato', 'kopiipato', 'kopupa', 'korapato', 'korikoripava', 'korukorupato', 'kosipa', 'kosipato', 'kotopa', 'kotopa', 'kovapato', 'koveoapa', 'kovopaa', 'kovopato', 'kukuepaa', 'kukuvaipaa', 'kupare', 'kupareto', 'kupekupepa', 'kuripaa', 'kuvupato'], 'va': ['kaaova', 'Kaareva', 'kaava', 'kaavaaua', 'kakuva', 'kapaava', 'karaava', 'karaova', 'karavau', 'karekarererava', 'karekova', 'kariava', 'karivai', 'karivaito', 'karivara', 'karova', 'karukava', 'kasiava', 'kasivari', 'Kava', 'kavakavau', 'kavakavau', 'kavatao', 'Kavatara', 'kavau', 'kavau', 'kavau asiava', 'kavau asiava', 'kavuava', 'keeriva', 'kepisiva', 'Kerevaru', 'keriva', 'kesikea vaaguru', 'kevaita', 'kevaita', 'kevaitato', 'kikisiova', 'kirava', 'kitoiva', 'koarava', 'koavaato', 'koetaova', 'koetava', 'kogova', 'koisiva', 'kokeriva', 'kokeva', 'kokosiva', 'kokovae', 'kokovaeva', 'kokovaeva', 'kokovara', 'kokovara', 'kokovaravira', 'koova', 'koova', 'koovotova', 'kopakava', 'korikoripava', 'kosivago', 'kova', 'kovaaro', 'kovaeto', 'kovaii', 'kovakovara', 'kovakovara', 'kovapato', 'kovarato', 'kovarua', 'kovasi', 'kovata', 'kovatavira', 'kovato', 'kovauke', 'Kovava', 'Kovava', 'koveva', 'kukuvai', 'kukuvaipaa', 'kuritava', 'kuuva', 'kuuvaki', 'kuuvakito', 'kuuvato', 'kuuvavira', 'kuva', 'kuvaku', 'kuvato', 'kuvau', 'kuvaupie', 'kuvauvira', 'kuverava'], 'pe': ['kaapea', 'kape', 'kapeaa', 'kapeaa', 'kapeaavira', 'kapekape', 'kapekape', 'kapekapevira', 'kapekapevira', 'kapere', 'kaperepie', 'kepetai', 'kipe', 'kipekipe', 'kipekipe', 'kipekipea', 'kipekipea', 'kipeto', 'kokopeko', 'kokopekovira', 'kokopeoto', 'kookoopeko', 'kuiopesi', 'kuiopetu', 'kupekupe', 'kupekupe', 'kupekupepa', 'kupekupepa', 'kupero', 'kuperoo', 'kuperovira'], 'pi': ['kaapie', 'kaapie', 'kaapiepato', 'kaapisi', 'kaapisivira', 'kaarekopie', 'kaaveakapie', 'kaaveakapievira', 'kaepie', 'kaepie', 'kaepievira', 'kaetupie', 'kaiporipie', 'kaitutupie', 'kakapikoa', 'kakapikoto', 'kakupie', 'kaperepie', 'kapi', 'kapiaa', 'kapiaavira', 'kapikapi', 'kapikapi', 'kapiro', 'kapiroa', 'kapiroko', 'kapisi', 'kapisito', 'kapiu', 'kapiua', 'kapuapie', 'kapupie', 'kapupiea', 'kapupiepaa', 'kapuupie', 'kapuupiepa', 'karapi', 'karapivira', 'karekepie', 'karepie', 'karepieto', 'Karepirie', 'kasipie', 'kasipupie', 'kasiraopie', 'kaukaupie', 'kavupie', 'kekepie', 'kepi', 'kepia', 'kepikepi', 'kepikepi', 'kepiko', 'kepiriko', 'kepiro', 'kepisi', 'kepisiva', 'kepita', 'kepitai', 'kepito', 'kerupiua', 'ketoopie', 'ketoopieara', 'kiipie', 'kikipi', 'kikipisi', 'kipapie', 'kiupie', 'koatapie', 'koetapie', 'koikoipie', 'kokepie', 'kokorokupie', 'kookoopi', 'koopi', 'koopipi', 'koopipi', 'kopii', 'kopiia', 'kopiipato', 'kopiipie', 'kopiipie', 'kopiito', 'kopikao', 'kopikopi', 'kopikopi', 'kopikopiara', 'kopikopiara', 'kopipi', 'kopipi', 'kopirovu', 'kopuasipie', 'kopupira', 'kororupie', 'korupie', 'korupievira', 'kosipie', 'kotupiua', 'kovopie', 'kukupira', 'kukuukupie', 'kupii', 'kurupi', 'kuupie', 'kuvaupie'], 'ra': ['kaapisivira', 'kaara', 'kaaveakapievira', 'kaaveakavira', 'kaekaevira', 'kaepievira', 'kaereasivira', 'kaetuvira', 'kaiporivira', 'kaitutuvira', 'kakaevira', 'kakara', 'Kakarapaia', 'kakarau', 'Kakarera', 'kakatuara', 'kakuvira', 'kandora', 'kaokaoara', 'kapara', 'kaparuvira', 'kapeaavira', 'kapekapevira', 'kapiaavira', 'kapokapora', 'kapoovira', 'Kara', 'kara', 'karaava', 'karakarao', 'karakarao', 'karakaraoa', 'karakaraoa', 'karakaraoto', 'karakaraoto', 'karakaraovira', 'karakaraovira', 'karakaraovira', 'karakaroto', 'karakuku', 'karaova', 'karapi', 'karapivira', 'karapivira', 'karara', 'karara', 'karata', 'karato', 'karavau', 'karavisi', 'karavisito', 'karavuru', 'karekarererava', 'kareovira', 'karirapa', 'karivara', 'karuvira', 'kasiarao', 'kasipuvira', 'kasirao', 'kasiraopie', 'kasiraovira', 'kasiraovira', 'kasiura', 'katakataivira', 'kataraua', 'katarauto', 'katavira', 'katokatovira', 'katuara', 'katuarato', 'kaukauvira', 'kausiovira', 'Kavatara', 'kaviruvira', 'kavora', 'kavorato', 'kavovovira', 'kavura', 'kavurao', 'keavira', 'keera', 'keevuruvira', 'kekeputuvira', 'kekeraokovira', 'kekeraokovira', 'kekevotovira', 'kekira', 'keovira', 'kera', 'kerakera', 'kerakera', 'kerari', 'keraria', 'kerau', 'kerauto', 'keravisi', 'keravisia', 'keravo', 'keripaara', 'kerisivira', 'keritara', 'keruriavira', 'kesievira', 'kesivira', 'ketoopieara', 'kevira', 'kevoisivira', 'kikira', 'kikiraeko', 'kipuvira', 'kira', 'kirava', 'koara', 'koarao', 'koaraua', 'koarava', 'koetavira', 'koikevira', 'koivira', 'kokara', 'kokaraa', 'kokarapato', 'kokerao', 'kokivira', 'kokopekovira', 'kokopuovira', 'kokopuvira', 'kokora', 'kokorai', 'kokorato', 'kokorivira', 'kokorovira', 'kokovara', 'kokovara', 'kokovaravira', 'kokovaravira', 'kookuvira', 'koora', 'kooroovira', 'kopakovira', 'kopikopiara', 'kopuasitovira', 'kopuasivira', 'kopupira', 'kopuvira', 'kora', 'korapato', 'korara', 'korara', 'koraraoko', 'koraraoko', 'korau', 'koraua', 'korauru', 'korauvira', 'korauvira', 'koriteira', 'kororoisivira', 'kororovivira', 'koruovira', 'korupievira', 'kotokotoara', 'kotovira', 'kovakovara', 'kovarato', 'kovatavira', 'kovukovuvira', 'kovurukovira', 'kovuruvira', 'kuara', 'kukara', 'kukupira', 'kuperovira', 'kurae', 'kurasia', 'kurasia', 'kurikasivira', 'kurovira', 'kururai', 'kuuvavira', 'kuuvuvira', 'kuvauvira', 'kuvera', 'kuverava', 'kuverevira', 'kuvuara'], 'po': ['kaapo', 'kaapopato', 'kaipori', 'kaiporipie', 'kaiporivira', 'kapo', 'kapoa', 'kapokao', 'kapokapo', 'kapokapo', 'kapokapoa', 'kapokapoa', 'kapokapora', 'kapokapora', 'kapokaporo', 'kapokaporo', 'kapokari', 'kapokarito', 'kapokoa', 'kapoo', 'kapooto', 'kapoovira', 'kapopaa', 'kaporo', 'kaporo', 'kaporopa', 'kaporoto', 'kapoto', 'karokaropo', 'karopo', 'kepo', 'kepoi', 'keposi', 'kepoto'], 're': ['kaare', 'kaareko', 'kaarekopie', 'kaareto', 'Kaareva', 'kaereasi', 'kaereasivira', 'Kakarera', 'kakuparei', 'kapere', 'kaperepie', 'kare', 'kare', 'karekare', 'karekare', 'karekare', 'karekare', 'karekarererava', 'karekarererava', 'karekarererava', 'karekareto', 'karekareto', 'kareke', 'karekepie', 'karekova', 'kareo', 'kareovira', 'karepie', 'karepieto', 'Karepirie', 'kataitoarei', 'kaureo', 'kaureoto', 'Kereaka', 'kerekoi', 'kerere', 'kerere', 'kerereua', 'kerereua', 'kerete', 'kerete', 'Kerevaru', 'kiire', 'kiire', 'kire', 'kokureko', 'korea', 'korekare', 'korekare', 'Korere', 'Korere', 'korereto', 'korereto', 'kovire', 'kovirea', 'kupare', 'kupareto', 'kurei', 'kuurea', 'kuvere', 'kuverea', 'kuvereto', 'kuverevira'], 've': ['kaaveaka', 'kaaveakapie', 'kaaveakapievira', 'kaaveakavira', 'kagave', 'kakavea', 'kave', 'kavee', 'kaveepaa', 'kaverui', 'kaveruko', 'kavesi', 'kiuve', 'koauve', 'kove', 'kove', 'kovea', 'kovekove', 'kovekove', 'koveoapa', 'koveva', 'kuvera', 'kuverava', 'kuvere', 'kuverea', 'kuvereto', 'kuverevira'], 'so': ['kaekaesoto', 'kekesopa'], 'ke': ['kaekeru', 'kakeoto', 'kareke', 'karekepie', 'kea', 'keakea', 'keakea', 'keakeato', 'keakeato', 'keari', 'kearito', 'keavira', 'kee', 'keekee', 'keekee', 'keekeepa', 'keekeepa', 'keekeeri', 'keekeeri', 'keekeerito', 'keekeerito', 'keera', 'keeriva', 'keesi', 'keetaa', 'keevuru', 'keevuruvira', 'kegi', 'kei', 'keke', 'keke', 'keke', 'keke', 'kekepie', 'kekepie', 'kekeputu', 'kekeputu', 'kekeputuvira', 'kekeputuvira', 'kekeraokovira', 'kekeraokovira', 'kekesopa', 'kekesopa', 'kekevoto', 'kekevoto', 'kekevotovira', 'kekevotovira', 'kekira', 'keo', 'keoka', 'keopa', 'keovira', 'kepa', 'kepa toupato', 'kepetai', 'kepi', 'kepia', 'kepikepi', 'kepikepi', 'kepiko', 'kepiriko', 'kepiro', 'kepisi', 'kepisiva', 'kepita', 'kepitai', 'kepito', 'kepo', 'kepoi', 'keposi', 'kepoto', 'kera', 'kerakera', 'kerakera', 'kerari', 'keraria', 'kerau', 'kerauto', 'keravisi', 'keravisia', 'keravo', 'kerekoi', 'kerere', 'kerereua', 'kerete', 'kerete', 'keri', 'kerikerisi', 'kerikerisi', 'kerio', 'kerioua', 'keripaara', 'keripato', 'kerisi', 'kerisito', 'kerisivira', 'keritara', 'keriva', 'keroroi', 'kerosiri', 'keru', 'keru', 'kerui', 'keruiato', 'keruito', 'kerupiua', 'keruria', 'keruriato', 'keruriavira', 'kesi', 'kesie', 'kesievira', 'kesikea vaaguru', 'kesikea vaaguru', 'kesio', 'kesioto', 'kesivira', 'keta', 'ketaka', 'ketakaa', 'ketato', 'ketoo', 'ketoo', 'ketoopie', 'ketoopieara', 'ketoroa', 'ketu', 'kevaita', 'kevaita', 'kevaitato', 'kevira', 'kevisi', 'kevoisi', 'kevoisivira', 'koike', 'koiketo', 'koikevira', 'koke', 'kokee', 'kokepato', 'kokepato', 'kokepie', 'kokerao', 'kokeriva', 'kokeu', 'kokeva', 'kovauke', 'kusike'], 'ru': ['kaekeru', 'kaparu', 'kaparuvira', 'karavuru', 'karu', 'karuka', 'karukaru', 'karukaru', 'karukava', 'Karuru', 'Karuru', 'karutu', 'karuvira', 'kaverui', 'kaveruko', 'kavikaviru', 'kavikaviru', 'kaviru', 'kaviru', 'kaviruto', 'kaviruvira', 'keevuru', 'keevuruvira', 'Kerevaru', 'keru', 'keru', 'kerui', 'keruiato', 'keruito', 'kerupiua', 'keruria', 'keruriato', 'keruriavira', 'kesikea vaaguru', 'kiiru', 'kiru', 'kirukiru', 'kirukiru', 'kirukirua', 'kirukirua', 'kirupato', 'kokokoru', 'Kokopuru', 'kokoru', 'kokoruu', 'kokoruu', 'kooru', 'Kopuru', 'korauru', 'kororu', 'kororupie', 'koru', 'Koruko', 'korukoru', 'korukoru', 'korukorupato', 'korukorupato', 'koruo', 'koruoto', 'koruou', 'koruoua', 'koruovira', 'korupie', 'korupievira', 'koturu', 'kovarua', 'kovoruko', 'kovuru', 'kovurui', 'kovuruko', 'kovurukovira', 'kovuruvira', 'kuru', 'kurue', 'kurupi', 'kururai', 'kururu', 'kururu', 'kurutu'], 'tu': ['kaetu', 'kaetupie', 'kaetuvira', 'kaitutu', 'kaitutu', 'kaitutupie', 'kaitutupie', 'kaitutuvira', 'kaitutuvira', 'kakatuara', 'kakutuiato', 'karutu', 'katuara', 'katuarato', 'katukatu', 'katukatu', 'katuta', 'kekeputu', 'kekeputuvira', 'ketu', 'kitu', 'kitukitu', 'kitukitu', 'kokootu', 'kokotu', 'kokotua', 'kokotuo', 'kootutu', 'kootutu', 'kotu', 'kotukotu', 'kotukotu', 'kotupiua', 'koturu', 'kuiopetu', 'kukutu', 'kurutu'], 'ri': ['kaipori', 'kaiporipie', 'kaiporivira', 'kairi', 'kairiro', 'kakiri', 'kapokari', 'kapokarito', 'Karepirie', 'kari', 'karia', 'kariava', 'karikari', 'karikari', 'karirapa', 'karisito', 'karivai', 'karivaito', 'karivara', 'kasivari', 'kasuari', 'kavori', 'kavori', 'keari', 'kearito', 'keekeeri', 'keekeerito', 'keeriva', 'kepiriko', 'kerari', 'keraria', 'keri', 'Keriaka', 'kerikerisi', 'kerikerisi', 'kerio', 'kerioua', 'keripaara', 'keripato', 'kerisi', 'kerisito', 'kerisivira', 'keritara', 'keriva', 'kerosiri', 'keruria', 'keruriato', 'keruriavira', 'kiikariko', 'kiri', 'kirikaokao', 'kirioto', 'kokeriva', 'kokori', 'kokorivira', 'Kokosiria', 'kokovupaparie', 'kokovurito', 'kori', 'koria', 'Koribori', 'Koribori', 'korikori', 'korikori', 'korikoripava', 'korikoripava', 'korita', 'korita', 'koriteira', 'koroviri', 'kukuriko', 'kukurikoto', 'kukusiri', 'kuri', 'kuriato', 'kurikaakaakuto', 'kurikasi', 'kurikasivira', 'kurikoko', 'kurikuri', 'kurikuri', 'kuripaa', 'kuritava', 'kuuri'], 'ta': ['kaita', 'kakata', 'kakutauo', 'kapatau', 'karata', 'kata', 'katai', 'kataitoarei', 'katakatai', 'katakatai', 'katakataivira', 'katakataivira', 'kataraua', 'katarauto', 'katavira', 'katuta', 'kavatao', 'Kavatara', 'keetaa', 'kepetai', 'kepita', 'kepitai', 'keritara', 'keta', 'ketaka', 'ketakaa', 'ketato', 'kevaita', 'kevaita', 'kevaitato', 'kikitausi', 'koata', 'koatapie', 'koeta', 'koetaova', 'koetapie', 'koetava', 'koetavira', 'kokotagoe', 'koota', 'korita', 'korita', 'kovata', 'kovatavira', 'kukutauvu', 'kukuvita', 'kuritava'], 'pu': ['kakapu', 'kakapua', 'kakupute', 'kapu', 'kapua', 'kapua', 'kapuapato', 'kapuapie', 'kapuasisi', 'kapupie', 'kapupiea', 'kapupiepaa', 'kapuu', 'kapuupie', 'kapuupiepa', 'kasipu', 'kasipupie', 'kasipuvira', 'kekeputu', 'kekeputuvira', 'kipu', 'kipukipu', 'kipukipu', 'kipupaa', 'kipupato', 'kipuvira', 'kokopuoto', 'kokopuovira', 'Kokopuru', 'kokopuvira', 'kopu', 'kopua', 'kopuasi', 'kopuasipie', 'kopuasito', 'kopuasitovira', 'kopuasivira', 'Kopuisi', 'kopukopu', 'kopukopu', 'kopukopua', 'kopukopua', 'kopupa', 'kopupira', 'kopuro', 'Kopuru', 'kopuvioro', 'kopuvira', 'kukue pute', 'kupukupu', 'kupukupu'], 'te': ['kakate', 'kakupute', 'kerete', 'kerete', 'kokoote', 'kokote', 'koriteira', 'kukue pute'], 'vu': ['kakavu', 'karavuru', 'kavu', 'kavu', 'kavuava', 'kavupie', 'kavura', 'kavurao', 'kavusi', 'kavuvo', 'keevuru', 'keevuruvira', 'kiuvu', 'kokovu', 'kokovua', 'kokovua', 'kokovua', 'kokovupaparie', 'kokovurito', 'kopirovu', 'kovuaka', 'kovuaro', 'kovukovu', 'kovukovu', 'kovukovuto', 'kovukovuto', 'kovukovuvira', 'kovukovuvira', 'kovuru', 'kovurui', 'kovuruko', 'kovurukovira', 'kovuruvira', 'kovuto', 'kukutauvu', 'kukuuvua', 'kukuvua', 'kuukuuvu', 'kuukuuvuto', 'kuuvu', 'kuuvuvira', 'kuvu', 'kuvuara', 'kuvukuvu', 'kuvukuvu', 'kuvukuvua', 'kuvukuvua', 'kuvupato', 'kuvuto'], 'su': ['kasuari']})\n"
     ]
    },
    {
     "data": {
      "text/plain": [
       "nltk.util.Index"
      ]
     },
     "execution_count": 35,
     "metadata": {},
     "output_type": "execute_result"
    }
   ],
   "source": [
    "print(cv_index)\n",
    "type(cv_index)"
   ]
  },
  {
   "cell_type": "code",
   "execution_count": null,
   "metadata": {},
   "outputs": [],
   "source": []
  }
 ],
 "metadata": {
  "kernelspec": {
   "display_name": "Python 3",
   "language": "python",
   "name": "python3"
  },
  "language_info": {
   "codemirror_mode": {
    "name": "ipython",
    "version": 3
   },
   "file_extension": ".py",
   "mimetype": "text/x-python",
   "name": "python",
   "nbconvert_exporter": "python",
   "pygments_lexer": "ipython3",
   "version": "3.6.8"
  }
 },
 "nbformat": 4,
 "nbformat_minor": 2
}
