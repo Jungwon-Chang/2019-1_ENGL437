{
 "cells": [
  {
   "cell_type": "code",
   "execution_count": 1,
   "metadata": {},
   "outputs": [],
   "source": [
    "import tensorflow as tf\n",
    "from tensorflow.keras.models import Sequential\n",
    "from tensorflow.keras.layers import Dense, Flatten, Dropout\n",
    "import os\n",
    "# need to find out why OMPerror occurs\n",
    "os.environ['KMP_DUPLICATE_LIB_OK']='True'\n",
    "\n",
    "import numpy as np\n",
    "import matplotlib.pyplot as plt\n",
    "from IPython.display import HTML"
   ]
  },
  {
   "cell_type": "code",
   "execution_count": 2,
   "metadata": {},
   "outputs": [],
   "source": [
    "import os; os.environ['KMP_DUPLICATE_LIB_OK']='True'"
   ]
  },
  {
   "cell_type": "code",
   "execution_count": 3,
   "metadata": {},
   "outputs": [],
   "source": [
    "img_rows = 28\n",
    "img_cols = 28\n",
    "\n",
    "model = Sequential()\n",
    "model.add(Flatten(input_shape=(img_rows, img_cols)))\n",
    "model.add(Dense(256, activation='relu'))\n",
    "model.add(Dropout(0.2))\n",
    "model.add(Dense(10, activation='softmax'))"
   ]
  },
  {
   "cell_type": "code",
   "execution_count": 4,
   "metadata": {},
   "outputs": [
    {
     "name": "stdout",
     "output_type": "stream",
     "text": [
      "_________________________________________________________________\n",
      "Layer (type)                 Output Shape              Param #   \n",
      "=================================================================\n",
      "flatten (Flatten)            (None, 784)               0         \n",
      "_________________________________________________________________\n",
      "dense (Dense)                (None, 256)               200960    \n",
      "_________________________________________________________________\n",
      "dropout (Dropout)            (None, 256)               0         \n",
      "_________________________________________________________________\n",
      "dense_1 (Dense)              (None, 10)                2570      \n",
      "=================================================================\n",
      "Total params: 203,530\n",
      "Trainable params: 203,530\n",
      "Non-trainable params: 0\n",
      "_________________________________________________________________\n"
     ]
    }
   ],
   "source": [
    "model.summary()"
   ]
  },
  {
   "cell_type": "code",
   "execution_count": 5,
   "metadata": {},
   "outputs": [
    {
     "data": {
      "text/plain": [
       "<tensorflow.python.training.checkpointable.util.CheckpointLoadStatus at 0xb3970fc18>"
      ]
     },
     "execution_count": 5,
     "metadata": {},
     "output_type": "execute_result"
    }
   ],
   "source": [
    "path = './mnist_ann_model.hdf5'\n",
    "model.load_weights(path, by_name=0)"
   ]
  },
  {
   "cell_type": "code",
   "execution_count": 6,
   "metadata": {},
   "outputs": [],
   "source": [
    "input_form = \"\"\"\n",
    "\n",
    "<table>\n",
    "\n",
    "<td style=\"border-style: none;\">\n",
    "\n",
    "<div style=\"border: solid 2px #666; width: 143px; height: 144px;\">\n",
    "\n",
    "<canvas width=\"140\" height=\"140\"></canvas>\n",
    "\n",
    "</div></td>\n",
    "\n",
    "<td style=\"border-style: none;\">\n",
    "\n",
    "<button onclick=\"clear_value()\">Clear</button>\n",
    "\n",
    "</td>\n",
    "\n",
    "</table>\n",
    "\n",
    "\"\"\"\n",
    "\n",
    "\n",
    "\n",
    "javascript = \"\"\"\n",
    "\n",
    "<script type=\"text/Javascript\">\n",
    "\n",
    "    var pixels = [];\n",
    "\n",
    "    for (var i = 0; i < 28*28; i++) pixels[i] = 0\n",
    "\n",
    "    var click = 0;\n",
    "\n",
    "\n",
    "\n",
    "    var canvas = document.querySelector(\"canvas\");\n",
    "\n",
    "    canvas.addEventListener(\"mousemove\", function(e){\n",
    "\n",
    "        if (e.buttons == 1) {\n",
    "\n",
    "            click = 1;\n",
    "\n",
    "            canvas.getContext(\"2d\").fillStyle = \"rgb(0,0,0)\";\n",
    "\n",
    "            canvas.getContext(\"2d\").fillRect(e.offsetX, e.offsetY, 8, 8);\n",
    "\n",
    "            x = Math.floor(e.offsetY * 0.2)\n",
    "\n",
    "            y = Math.floor(e.offsetX * 0.2) + 1\n",
    "\n",
    "            for (var dy = 0; dy < 2; dy++){\n",
    "\n",
    "                for (var dx = 0; dx < 2; dx++){\n",
    "\n",
    "                    if ((x + dx < 28) && (y + dy < 28)){\n",
    "\n",
    "                        pixels[(y+dy)+(x+dx)*28] = 1\n",
    "\n",
    "                    }\n",
    "\n",
    "                }\n",
    "\n",
    "            }\n",
    "\n",
    "        } else {\n",
    "\n",
    "            if (click == 1) set_value()\n",
    "\n",
    "            click = 0;\n",
    "\n",
    "        }\n",
    "\n",
    "    });\n",
    "\n",
    "    \n",
    "\n",
    "    function set_value(){\n",
    "\n",
    "        var result = \"\"\n",
    "\n",
    "        for (var i = 0; i < 28*28; i++) result += pixels[i] + \",\"\n",
    "\n",
    "        var kernel = IPython.notebook.kernel;\n",
    "\n",
    "        kernel.execute(\"image = [\" + result + \"]\");\n",
    "\n",
    "    }\n",
    "\n",
    "    \n",
    "\n",
    "    function clear_value(){\n",
    "\n",
    "        canvas.getContext(\"2d\").fillStyle = \"rgb(255,255,255)\";\n",
    "\n",
    "        canvas.getContext(\"2d\").fillRect(0, 0, 140, 140);\n",
    "\n",
    "        for (var i = 0; i < 28*28; i++) pixels[i] = 0\n",
    "\n",
    "    }\n",
    "\n",
    "</script>\n",
    "\n",
    "\"\"\""
   ]
  },
  {
   "cell_type": "code",
   "execution_count": 7,
   "metadata": {},
   "outputs": [
    {
     "data": {
      "text/html": [
       "\n",
       "\n",
       "<table>\n",
       "\n",
       "<td style=\"border-style: none;\">\n",
       "\n",
       "<div style=\"border: solid 2px #666; width: 143px; height: 144px;\">\n",
       "\n",
       "<canvas width=\"140\" height=\"140\"></canvas>\n",
       "\n",
       "</div></td>\n",
       "\n",
       "<td style=\"border-style: none;\">\n",
       "\n",
       "<button onclick=\"clear_value()\">Clear</button>\n",
       "\n",
       "</td>\n",
       "\n",
       "</table>\n",
       "\n",
       "\n",
       "\n",
       "<script type=\"text/Javascript\">\n",
       "\n",
       "    var pixels = [];\n",
       "\n",
       "    for (var i = 0; i < 28*28; i++) pixels[i] = 0\n",
       "\n",
       "    var click = 0;\n",
       "\n",
       "\n",
       "\n",
       "    var canvas = document.querySelector(\"canvas\");\n",
       "\n",
       "    canvas.addEventListener(\"mousemove\", function(e){\n",
       "\n",
       "        if (e.buttons == 1) {\n",
       "\n",
       "            click = 1;\n",
       "\n",
       "            canvas.getContext(\"2d\").fillStyle = \"rgb(0,0,0)\";\n",
       "\n",
       "            canvas.getContext(\"2d\").fillRect(e.offsetX, e.offsetY, 8, 8);\n",
       "\n",
       "            x = Math.floor(e.offsetY * 0.2)\n",
       "\n",
       "            y = Math.floor(e.offsetX * 0.2) + 1\n",
       "\n",
       "            for (var dy = 0; dy < 2; dy++){\n",
       "\n",
       "                for (var dx = 0; dx < 2; dx++){\n",
       "\n",
       "                    if ((x + dx < 28) && (y + dy < 28)){\n",
       "\n",
       "                        pixels[(y+dy)+(x+dx)*28] = 1\n",
       "\n",
       "                    }\n",
       "\n",
       "                }\n",
       "\n",
       "            }\n",
       "\n",
       "        } else {\n",
       "\n",
       "            if (click == 1) set_value()\n",
       "\n",
       "            click = 0;\n",
       "\n",
       "        }\n",
       "\n",
       "    });\n",
       "\n",
       "    \n",
       "\n",
       "    function set_value(){\n",
       "\n",
       "        var result = \"\"\n",
       "\n",
       "        for (var i = 0; i < 28*28; i++) result += pixels[i] + \",\"\n",
       "\n",
       "        var kernel = IPython.notebook.kernel;\n",
       "\n",
       "        kernel.execute(\"image = [\" + result + \"]\");\n",
       "\n",
       "    }\n",
       "\n",
       "    \n",
       "\n",
       "    function clear_value(){\n",
       "\n",
       "        canvas.getContext(\"2d\").fillStyle = \"rgb(255,255,255)\";\n",
       "\n",
       "        canvas.getContext(\"2d\").fillRect(0, 0, 140, 140);\n",
       "\n",
       "        for (var i = 0; i < 28*28; i++) pixels[i] = 0\n",
       "\n",
       "    }\n",
       "\n",
       "</script>\n",
       "\n"
      ],
      "text/plain": [
       "<IPython.core.display.HTML object>"
      ]
     },
     "execution_count": 7,
     "metadata": {},
     "output_type": "execute_result"
    }
   ],
   "source": [
    "HTML(input_form + javascript)"
   ]
  },
  {
   "cell_type": "code",
   "execution_count": 16,
   "metadata": {},
   "outputs": [
    {
     "data": {
      "text/plain": [
       "<BarContainer object of 10 artists>"
      ]
     },
     "execution_count": 16,
     "metadata": {},
     "output_type": "execute_result"
    },
    {
     "data": {
      "image/png": "[encoded data removed]",
      "text/plain": [
       "<Figure size 432x288 with 1 Axes>"
      ]
     },
     "metadata": {
      "needs_background": "light"
     },
     "output_type": "display_data"
    }
   ],
   "source": [
    "image_3darray = np.array(image).reshape([1,img_rows,img_cols])\n",
    "result = model.predict(image_3darray)\n",
    "plt.bar(list(range(10)), list(result.reshape([10])))"
   ]
  },
  {
   "cell_type": "code",
   "execution_count": null,
   "metadata": {},
   "outputs": [],
   "source": [
    "image"
   ]
  },
  {
   "cell_type": "code",
   "execution_count": null,
   "metadata": {},
   "outputs": [],
   "source": []
  }
 ],
 "metadata": {
  "kernelspec": {
   "display_name": "Python 3",
   "language": "python",
   "name": "python3"
  },
  "language_info": {
   "codemirror_mode": {
    "name": "ipython",
    "version": 3
   },
   "file_extension": ".py",
   "mimetype": "text/x-python",
   "name": "python",
   "nbconvert_exporter": "python",
   "pygments_lexer": "ipython3",
   "version": "3.6.8"
  }
 },
 "nbformat": 4,
 "nbformat_minor": 2
}
