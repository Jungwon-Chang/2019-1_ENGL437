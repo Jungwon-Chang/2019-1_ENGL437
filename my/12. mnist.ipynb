{
 "cells": [
  {
   "cell_type": "code",
   "execution_count": 1,
   "metadata": {},
   "outputs": [],
   "source": [
    "import tensorflow as tf\n",
    "from tensorflow.keras.models import Sequential\n",
    "from tensorflow.keras.layers import Dense, Flatten, Dropout\n",
    "from tensorflow.keras import metrics\n",
    "\n",
    "import os\n",
    "# need to find out why OMPerror occurs\n",
    "os.environ['KMP_DUPLICATE_LIB_OK']='True'\n",
    "\n",
    "import numpy as np\n",
    "import matplotlib.pyplot as plt"
   ]
  },
  {
   "cell_type": "code",
   "execution_count": 2,
   "metadata": {},
   "outputs": [],
   "source": [
    "(x_train, y_train), (x_test, y_test) = tf.keras.datasets.mnist.load_data()"
   ]
  },
  {
   "cell_type": "code",
   "execution_count": 3,
   "metadata": {},
   "outputs": [],
   "source": [
    "x_train, x_test = x_train / 255.0, x_test/255.0"
   ]
  },
  {
   "cell_type": "code",
   "execution_count": 4,
   "metadata": {
    "scrolled": false
   },
   "outputs": [
    {
     "name": "stdout",
     "output_type": "stream",
     "text": [
      "(60000, 28, 28) (60000,)\n"
     ]
    }
   ],
   "source": [
    "print(x_train.shape, y_train.shape)"
   ]
  },
  {
   "cell_type": "code",
   "execution_count": 5,
   "metadata": {},
   "outputs": [
    {
     "name": "stdout",
     "output_type": "stream",
     "text": [
      "<class 'tuple'>\n",
      "<class 'int'>\n"
     ]
    }
   ],
   "source": [
    "print(type(y_train.shape))\n",
    "print(type((1)))"
   ]
  },
  {
   "cell_type": "code",
   "execution_count": 6,
   "metadata": {},
   "outputs": [
    {
     "data": {
      "text/plain": [
       "False"
      ]
     },
     "execution_count": 6,
     "metadata": {},
     "output_type": "execute_result"
    }
   ],
   "source": [
    "(1,) == (1,1)"
   ]
  },
  {
   "cell_type": "markdown",
   "metadata": {},
   "source": [
    "1개의 element로 이루어진 tuple --> (n,) 이런 식으로!"
   ]
  },
  {
   "cell_type": "code",
   "execution_count": 7,
   "metadata": {},
   "outputs": [
    {
     "data": {
      "text/plain": [
       "array([[0.        , 0.        , 0.        , 0.        , 0.        ,\n",
       "        0.        , 0.        , 0.        , 0.        , 0.        ,\n",
       "        0.        , 0.        , 0.        , 0.        , 0.        ,\n",
       "        0.        , 0.        , 0.        , 0.        , 0.        ,\n",
       "        0.        , 0.        , 0.        , 0.        , 0.        ,\n",
       "        0.        , 0.        , 0.        ],\n",
       "       [0.        , 0.        , 0.        , 0.        , 0.        ,\n",
       "        0.        , 0.        , 0.        , 0.        , 0.        ,\n",
       "        0.        , 0.        , 0.        , 0.        , 0.        ,\n",
       "        0.        , 0.        , 0.        , 0.        , 0.        ,\n",
       "        0.        , 0.        , 0.        , 0.        , 0.        ,\n",
       "        0.        , 0.        , 0.        ],\n",
       "       [0.        , 0.        , 0.        , 0.        , 0.        ,\n",
       "        0.        , 0.        , 0.        , 0.        , 0.        ,\n",
       "        0.        , 0.        , 0.        , 0.        , 0.        ,\n",
       "        0.        , 0.        , 0.        , 0.        , 0.        ,\n",
       "        0.        , 0.        , 0.        , 0.        , 0.        ,\n",
       "        0.        , 0.        , 0.        ],\n",
       "       [0.        , 0.        , 0.        , 0.        , 0.        ,\n",
       "        0.        , 0.        , 0.        , 0.        , 0.        ,\n",
       "        0.        , 0.        , 0.        , 0.        , 0.        ,\n",
       "        0.        , 0.        , 0.        , 0.        , 0.        ,\n",
       "        0.        , 0.        , 0.        , 0.        , 0.        ,\n",
       "        0.        , 0.        , 0.        ],\n",
       "       [0.        , 0.        , 0.        , 0.        , 0.        ,\n",
       "        0.        , 0.        , 0.        , 0.        , 0.        ,\n",
       "        0.        , 0.        , 0.        , 0.        , 0.        ,\n",
       "        0.        , 0.        , 0.        , 0.        , 0.        ,\n",
       "        0.        , 0.        , 0.        , 0.        , 0.        ,\n",
       "        0.        , 0.        , 0.        ],\n",
       "       [0.        , 0.        , 0.        , 0.        , 0.        ,\n",
       "        0.        , 0.        , 0.        , 0.        , 0.        ,\n",
       "        0.        , 0.        , 0.01176471, 0.07058824, 0.07058824,\n",
       "        0.07058824, 0.49411765, 0.53333333, 0.68627451, 0.10196078,\n",
       "        0.65098039, 1.        , 0.96862745, 0.49803922, 0.        ,\n",
       "        0.        , 0.        , 0.        ],\n",
       "       [0.        , 0.        , 0.        , 0.        , 0.        ,\n",
       "        0.        , 0.        , 0.        , 0.11764706, 0.14117647,\n",
       "        0.36862745, 0.60392157, 0.66666667, 0.99215686, 0.99215686,\n",
       "        0.99215686, 0.99215686, 0.99215686, 0.88235294, 0.6745098 ,\n",
       "        0.99215686, 0.94901961, 0.76470588, 0.25098039, 0.        ,\n",
       "        0.        , 0.        , 0.        ],\n",
       "       [0.        , 0.        , 0.        , 0.        , 0.        ,\n",
       "        0.        , 0.        , 0.19215686, 0.93333333, 0.99215686,\n",
       "        0.99215686, 0.99215686, 0.99215686, 0.99215686, 0.99215686,\n",
       "        0.99215686, 0.99215686, 0.98431373, 0.36470588, 0.32156863,\n",
       "        0.32156863, 0.21960784, 0.15294118, 0.        , 0.        ,\n",
       "        0.        , 0.        , 0.        ],\n",
       "       [0.        , 0.        , 0.        , 0.        , 0.        ,\n",
       "        0.        , 0.        , 0.07058824, 0.85882353, 0.99215686,\n",
       "        0.99215686, 0.99215686, 0.99215686, 0.99215686, 0.77647059,\n",
       "        0.71372549, 0.96862745, 0.94509804, 0.        , 0.        ,\n",
       "        0.        , 0.        , 0.        , 0.        , 0.        ,\n",
       "        0.        , 0.        , 0.        ],\n",
       "       [0.        , 0.        , 0.        , 0.        , 0.        ,\n",
       "        0.        , 0.        , 0.        , 0.31372549, 0.61176471,\n",
       "        0.41960784, 0.99215686, 0.99215686, 0.80392157, 0.04313725,\n",
       "        0.        , 0.16862745, 0.60392157, 0.        , 0.        ,\n",
       "        0.        , 0.        , 0.        , 0.        , 0.        ,\n",
       "        0.        , 0.        , 0.        ],\n",
       "       [0.        , 0.        , 0.        , 0.        , 0.        ,\n",
       "        0.        , 0.        , 0.        , 0.        , 0.05490196,\n",
       "        0.00392157, 0.60392157, 0.99215686, 0.35294118, 0.        ,\n",
       "        0.        , 0.        , 0.        , 0.        , 0.        ,\n",
       "        0.        , 0.        , 0.        , 0.        , 0.        ,\n",
       "        0.        , 0.        , 0.        ],\n",
       "       [0.        , 0.        , 0.        , 0.        , 0.        ,\n",
       "        0.        , 0.        , 0.        , 0.        , 0.        ,\n",
       "        0.        , 0.54509804, 0.99215686, 0.74509804, 0.00784314,\n",
       "        0.        , 0.        , 0.        , 0.        , 0.        ,\n",
       "        0.        , 0.        , 0.        , 0.        , 0.        ,\n",
       "        0.        , 0.        , 0.        ],\n",
       "       [0.        , 0.        , 0.        , 0.        , 0.        ,\n",
       "        0.        , 0.        , 0.        , 0.        , 0.        ,\n",
       "        0.        , 0.04313725, 0.74509804, 0.99215686, 0.2745098 ,\n",
       "        0.        , 0.        , 0.        , 0.        , 0.        ,\n",
       "        0.        , 0.        , 0.        , 0.        , 0.        ,\n",
       "        0.        , 0.        , 0.        ],\n",
       "       [0.        , 0.        , 0.        , 0.        , 0.        ,\n",
       "        0.        , 0.        , 0.        , 0.        , 0.        ,\n",
       "        0.        , 0.        , 0.1372549 , 0.94509804, 0.88235294,\n",
       "        0.62745098, 0.42352941, 0.00392157, 0.        , 0.        ,\n",
       "        0.        , 0.        , 0.        , 0.        , 0.        ,\n",
       "        0.        , 0.        , 0.        ],\n",
       "       [0.        , 0.        , 0.        , 0.        , 0.        ,\n",
       "        0.        , 0.        , 0.        , 0.        , 0.        ,\n",
       "        0.        , 0.        , 0.        , 0.31764706, 0.94117647,\n",
       "        0.99215686, 0.99215686, 0.46666667, 0.09803922, 0.        ,\n",
       "        0.        , 0.        , 0.        , 0.        , 0.        ,\n",
       "        0.        , 0.        , 0.        ],\n",
       "       [0.        , 0.        , 0.        , 0.        , 0.        ,\n",
       "        0.        , 0.        , 0.        , 0.        , 0.        ,\n",
       "        0.        , 0.        , 0.        , 0.        , 0.17647059,\n",
       "        0.72941176, 0.99215686, 0.99215686, 0.58823529, 0.10588235,\n",
       "        0.        , 0.        , 0.        , 0.        , 0.        ,\n",
       "        0.        , 0.        , 0.        ],\n",
       "       [0.        , 0.        , 0.        , 0.        , 0.        ,\n",
       "        0.        , 0.        , 0.        , 0.        , 0.        ,\n",
       "        0.        , 0.        , 0.        , 0.        , 0.        ,\n",
       "        0.0627451 , 0.36470588, 0.98823529, 0.99215686, 0.73333333,\n",
       "        0.        , 0.        , 0.        , 0.        , 0.        ,\n",
       "        0.        , 0.        , 0.        ],\n",
       "       [0.        , 0.        , 0.        , 0.        , 0.        ,\n",
       "        0.        , 0.        , 0.        , 0.        , 0.        ,\n",
       "        0.        , 0.        , 0.        , 0.        , 0.        ,\n",
       "        0.        , 0.        , 0.97647059, 0.99215686, 0.97647059,\n",
       "        0.25098039, 0.        , 0.        , 0.        , 0.        ,\n",
       "        0.        , 0.        , 0.        ],\n",
       "       [0.        , 0.        , 0.        , 0.        , 0.        ,\n",
       "        0.        , 0.        , 0.        , 0.        , 0.        ,\n",
       "        0.        , 0.        , 0.        , 0.        , 0.18039216,\n",
       "        0.50980392, 0.71764706, 0.99215686, 0.99215686, 0.81176471,\n",
       "        0.00784314, 0.        , 0.        , 0.        , 0.        ,\n",
       "        0.        , 0.        , 0.        ],\n",
       "       [0.        , 0.        , 0.        , 0.        , 0.        ,\n",
       "        0.        , 0.        , 0.        , 0.        , 0.        ,\n",
       "        0.        , 0.        , 0.15294118, 0.58039216, 0.89803922,\n",
       "        0.99215686, 0.99215686, 0.99215686, 0.98039216, 0.71372549,\n",
       "        0.        , 0.        , 0.        , 0.        , 0.        ,\n",
       "        0.        , 0.        , 0.        ],\n",
       "       [0.        , 0.        , 0.        , 0.        , 0.        ,\n",
       "        0.        , 0.        , 0.        , 0.        , 0.        ,\n",
       "        0.09411765, 0.44705882, 0.86666667, 0.99215686, 0.99215686,\n",
       "        0.99215686, 0.99215686, 0.78823529, 0.30588235, 0.        ,\n",
       "        0.        , 0.        , 0.        , 0.        , 0.        ,\n",
       "        0.        , 0.        , 0.        ],\n",
       "       [0.        , 0.        , 0.        , 0.        , 0.        ,\n",
       "        0.        , 0.        , 0.        , 0.09019608, 0.25882353,\n",
       "        0.83529412, 0.99215686, 0.99215686, 0.99215686, 0.99215686,\n",
       "        0.77647059, 0.31764706, 0.00784314, 0.        , 0.        ,\n",
       "        0.        , 0.        , 0.        , 0.        , 0.        ,\n",
       "        0.        , 0.        , 0.        ],\n",
       "       [0.        , 0.        , 0.        , 0.        , 0.        ,\n",
       "        0.        , 0.07058824, 0.67058824, 0.85882353, 0.99215686,\n",
       "        0.99215686, 0.99215686, 0.99215686, 0.76470588, 0.31372549,\n",
       "        0.03529412, 0.        , 0.        , 0.        , 0.        ,\n",
       "        0.        , 0.        , 0.        , 0.        , 0.        ,\n",
       "        0.        , 0.        , 0.        ],\n",
       "       [0.        , 0.        , 0.        , 0.        , 0.21568627,\n",
       "        0.6745098 , 0.88627451, 0.99215686, 0.99215686, 0.99215686,\n",
       "        0.99215686, 0.95686275, 0.52156863, 0.04313725, 0.        ,\n",
       "        0.        , 0.        , 0.        , 0.        , 0.        ,\n",
       "        0.        , 0.        , 0.        , 0.        , 0.        ,\n",
       "        0.        , 0.        , 0.        ],\n",
       "       [0.        , 0.        , 0.        , 0.        , 0.53333333,\n",
       "        0.99215686, 0.99215686, 0.99215686, 0.83137255, 0.52941176,\n",
       "        0.51764706, 0.0627451 , 0.        , 0.        , 0.        ,\n",
       "        0.        , 0.        , 0.        , 0.        , 0.        ,\n",
       "        0.        , 0.        , 0.        , 0.        , 0.        ,\n",
       "        0.        , 0.        , 0.        ],\n",
       "       [0.        , 0.        , 0.        , 0.        , 0.        ,\n",
       "        0.        , 0.        , 0.        , 0.        , 0.        ,\n",
       "        0.        , 0.        , 0.        , 0.        , 0.        ,\n",
       "        0.        , 0.        , 0.        , 0.        , 0.        ,\n",
       "        0.        , 0.        , 0.        , 0.        , 0.        ,\n",
       "        0.        , 0.        , 0.        ],\n",
       "       [0.        , 0.        , 0.        , 0.        , 0.        ,\n",
       "        0.        , 0.        , 0.        , 0.        , 0.        ,\n",
       "        0.        , 0.        , 0.        , 0.        , 0.        ,\n",
       "        0.        , 0.        , 0.        , 0.        , 0.        ,\n",
       "        0.        , 0.        , 0.        , 0.        , 0.        ,\n",
       "        0.        , 0.        , 0.        ],\n",
       "       [0.        , 0.        , 0.        , 0.        , 0.        ,\n",
       "        0.        , 0.        , 0.        , 0.        , 0.        ,\n",
       "        0.        , 0.        , 0.        , 0.        , 0.        ,\n",
       "        0.        , 0.        , 0.        , 0.        , 0.        ,\n",
       "        0.        , 0.        , 0.        , 0.        , 0.        ,\n",
       "        0.        , 0.        , 0.        ]])"
      ]
     },
     "execution_count": 7,
     "metadata": {},
     "output_type": "execute_result"
    }
   ],
   "source": [
    "x_train[0, :, :]"
   ]
  },
  {
   "cell_type": "code",
   "execution_count": 8,
   "metadata": {},
   "outputs": [
    {
     "data": {
      "text/plain": [
       "5"
      ]
     },
     "execution_count": 8,
     "metadata": {},
     "output_type": "execute_result"
    }
   ],
   "source": [
    "y_train[0]"
   ]
  },
  {
   "cell_type": "code",
   "execution_count": 9,
   "metadata": {},
   "outputs": [
    {
     "data": {
      "image/png": "[encoded data removed]",
      "text/plain": [
       "<Figure size 720x720 with 100 Axes>"
      ]
     },
     "metadata": {},
     "output_type": "display_data"
    }
   ],
   "source": [
    "# subplotting 더 알아보긔~\n",
    "plt.figure(figsize=(10,10))\n",
    "for i in range(100):\n",
    "    plt.subplot(10,10, i+1)\n",
    "    plt.xticks([])\n",
    "    plt.yticks([])\n",
    "    plt.imshow(x_train[i], cmap = plt.cm.binary)\n",
    "plt.show()"
   ]
  },
  {
   "cell_type": "code",
   "execution_count": 10,
   "metadata": {},
   "outputs": [],
   "source": [
    "img_rows = 28\n",
    "img_cols = 28\n",
    "\n",
    "model = Sequential()\n",
    "model.add(Flatten(input_shape=(img_rows, img_cols)))\n",
    "model.add(Dense(256, activation='relu'))\n",
    "model.add(Dropout(0.2))\n",
    "model.add(Dense(10, activation='softmax'))"
   ]
  },
  {
   "cell_type": "code",
   "execution_count": 11,
   "metadata": {},
   "outputs": [],
   "source": [
    "# optimizer 먼저 지정(lr 지정 가능)\n",
    "optimizer = tf.keras.optimizers.Adam\n",
    "model.compile(optimizer=optimizer(lr=0.001), loss='categorical_crossentropy', metrics=[metrics.categorical_accuracy])"
   ]
  },
  {
   "cell_type": "code",
   "execution_count": 12,
   "metadata": {},
   "outputs": [
    {
     "name": "stdout",
     "output_type": "stream",
     "text": [
      "(None, 28, 28)\n",
      "(None, 10)\n"
     ]
    }
   ],
   "source": [
    "print(model.input_shape)\n",
    "print(model.output_shape)"
   ]
  },
  {
   "cell_type": "code",
   "execution_count": 13,
   "metadata": {},
   "outputs": [
    {
     "name": "stdout",
     "output_type": "stream",
     "text": [
      "_________________________________________________________________\n",
      "Layer (type)                 Output Shape              Param #   \n",
      "=================================================================\n",
      "flatten (Flatten)            (None, 784)               0         \n",
      "_________________________________________________________________\n",
      "dense (Dense)                (None, 256)               200960    \n",
      "_________________________________________________________________\n",
      "dropout (Dropout)            (None, 256)               0         \n",
      "_________________________________________________________________\n",
      "dense_1 (Dense)              (None, 10)                2570      \n",
      "=================================================================\n",
      "Total params: 203,530\n",
      "Trainable params: 203,530\n",
      "Non-trainable params: 0\n",
      "_________________________________________________________________\n"
     ]
    }
   ],
   "source": [
    "model.summary()"
   ]
  },
  {
   "cell_type": "code",
   "execution_count": 14,
   "metadata": {
    "scrolled": true
   },
   "outputs": [
    {
     "name": "stdout",
     "output_type": "stream",
     "text": [
      "Train on 60000 samples, validate on 10000 samples\n",
      "Epoch 1/15\n",
      "60000/60000 [==============================] - 4s 75us/step - loss: 0.3383 - categorical_accuracy: 0.9035 - val_loss: 0.1601 - val_categorical_accuracy: 0.9547\n",
      "Epoch 2/15\n",
      "60000/60000 [==============================] - 4s 63us/step - loss: 0.1509 - categorical_accuracy: 0.9559 - val_loss: 0.1147 - val_categorical_accuracy: 0.9655\n",
      "Epoch 3/15\n",
      "60000/60000 [==============================] - 4s 61us/step - loss: 0.1092 - categorical_accuracy: 0.9680 - val_loss: 0.0916 - val_categorical_accuracy: 0.9728\n",
      "Epoch 4/15\n",
      "60000/60000 [==============================] - 4s 61us/step - loss: 0.0846 - categorical_accuracy: 0.9747 - val_loss: 0.0769 - val_categorical_accuracy: 0.9769\n",
      "Epoch 5/15\n",
      "60000/60000 [==============================] - 4s 67us/step - loss: 0.0695 - categorical_accuracy: 0.9797 - val_loss: 0.0721 - val_categorical_accuracy: 0.9773\n",
      "Epoch 6/15\n",
      "60000/60000 [==============================] - 4s 63us/step - loss: 0.0583 - categorical_accuracy: 0.9821 - val_loss: 0.0696 - val_categorical_accuracy: 0.9791\n",
      "Epoch 7/15\n",
      "60000/60000 [==============================] - 4s 65us/step - loss: 0.0504 - categorical_accuracy: 0.9841 - val_loss: 0.0710 - val_categorical_accuracy: 0.9786\n",
      "Epoch 8/15\n",
      "60000/60000 [==============================] - 4s 68us/step - loss: 0.0422 - categorical_accuracy: 0.9870 - val_loss: 0.0649 - val_categorical_accuracy: 0.9789\n",
      "Epoch 9/15\n",
      "60000/60000 [==============================] - 4s 66us/step - loss: 0.0369 - categorical_accuracy: 0.9881 - val_loss: 0.0629 - val_categorical_accuracy: 0.9798\n",
      "Epoch 10/15\n",
      "60000/60000 [==============================] - 4s 64us/step - loss: 0.0332 - categorical_accuracy: 0.9900 - val_loss: 0.0621 - val_categorical_accuracy: 0.9806\n",
      "Epoch 11/15\n",
      "60000/60000 [==============================] - 4s 64us/step - loss: 0.0296 - categorical_accuracy: 0.9907 - val_loss: 0.0627 - val_categorical_accuracy: 0.9809\n",
      "Epoch 12/15\n",
      "60000/60000 [==============================] - 4s 65us/step - loss: 0.0247 - categorical_accuracy: 0.9927 - val_loss: 0.0616 - val_categorical_accuracy: 0.9815\n",
      "Epoch 13/15\n",
      "60000/60000 [==============================] - 4s 65us/step - loss: 0.0238 - categorical_accuracy: 0.9928 - val_loss: 0.0618 - val_categorical_accuracy: 0.9822\n",
      "Epoch 14/15\n",
      "60000/60000 [==============================] - 4s 65us/step - loss: 0.0219 - categorical_accuracy: 0.9931 - val_loss: 0.0676 - val_categorical_accuracy: 0.9795\n",
      "Epoch 15/15\n",
      "60000/60000 [==============================] - 4s 65us/step - loss: 0.0192 - categorical_accuracy: 0.9937 - val_loss: 0.0627 - val_categorical_accuracy: 0.9822\n"
     ]
    }
   ],
   "source": [
    "y_train = tf.keras.utils.to_categorical(y_train)\n",
    "# history = model.fit(x_train, y_train,validation_split=0.1, batch_size=128, epochs=20)\n",
    "\n",
    "# 이 예제에서는 test_set을 따로 사용하는 것이 아니므로 기존에 x_test/y_test를  x_val/y_val 로 만든 후, validation_data로 만들어준다.\n",
    "from tensorflow.keras.utils import to_categorical\n",
    "(x_val, y_val) = (x_test, y_test)\n",
    "y_val = to_categorical(y_val)\n",
    "history = model.fit(x_train, y_train,validation_data=(x_val, y_val), batch_size=128, epochs=15)"
   ]
  },
  {
   "cell_type": "code",
   "execution_count": 15,
   "metadata": {},
   "outputs": [
    {
     "name": "stdout",
     "output_type": "stream",
     "text": [
      "<class 'dict'>\n"
     ]
    },
    {
     "data": {
      "text/plain": [
       "dict_keys(['val_loss', 'val_categorical_accuracy', 'loss', 'categorical_accuracy'])"
      ]
     },
     "execution_count": 15,
     "metadata": {},
     "output_type": "execute_result"
    }
   ],
   "source": [
    "print(type(history.history))\n",
    "history.history.keys()"
   ]
  },
  {
   "cell_type": "code",
   "execution_count": 16,
   "metadata": {},
   "outputs": [
    {
     "data": {
      "image/png": "[encoded data removed]",
      "text/plain": [
       "<Figure size 432x288 with 1 Axes>"
      ]
     },
     "metadata": {
      "needs_background": "light"
     },
     "output_type": "display_data"
    }
   ],
   "source": [
    "plt.plot(history.history['categorical_accuracy'])\n",
    "plt.plot(history.history['val_categorical_accuracy'])\n",
    "plt.title('categorical_accuracy')\n",
    "plt.ylabel('categorical_accuracy')\n",
    "plt.xlabel('epoch')\n",
    "plt.legend(['train', 'val'], loc='upper left')\n",
    "plt.show()"
   ]
  },
  {
   "cell_type": "code",
   "execution_count": 17,
   "metadata": {},
   "outputs": [
    {
     "data": {
      "image/png": "[encoded data removed]",
      "text/plain": [
       "<Figure size 432x288 with 1 Axes>"
      ]
     },
     "metadata": {
      "needs_background": "light"
     },
     "output_type": "display_data"
    }
   ],
   "source": [
    "# plot train_loss & val_loss\n",
    "plt.plot(history.history['loss'])\n",
    "plt.plot(history.history['val_loss'])\n",
    "plt.title('model loss')\n",
    "plt.ylabel('loss')\n",
    "plt.xlabel('epoch')\n",
    "plt.legend(['train', 'val'], loc='upper left')\n",
    "plt.show()"
   ]
  },
  {
   "cell_type": "code",
   "execution_count": 18,
   "metadata": {},
   "outputs": [],
   "source": [
    "# saving the model\n",
    "\n",
    "# path = \"./mnist_ann_model.hdf5\"\n",
    "# model.save_weights(path)"
   ]
  },
  {
   "cell_type": "code",
   "execution_count": 17,
   "metadata": {},
   "outputs": [],
   "source": [
    "from IPython.display import HTML"
   ]
  },
  {
   "cell_type": "code",
   "execution_count": 18,
   "metadata": {},
   "outputs": [],
   "source": [
    "input_form = \"\"\"\n",
    "\n",
    "<table>\n",
    "\n",
    "<td style=\"border-style: none;\">\n",
    "\n",
    "<div style=\"border: solid 2px #666; width: 143px; height: 144px;\">\n",
    "\n",
    "<canvas width=\"140\" height=\"140\"></canvas>\n",
    "\n",
    "</div></td>\n",
    "\n",
    "<td style=\"border-style: none;\">\n",
    "\n",
    "<button onclick=\"clear_value()\">Clear</button>\n",
    "\n",
    "</td>\n",
    "\n",
    "</table>\n",
    "\n",
    "\"\"\"\n",
    "\n",
    "\n",
    "\n",
    "javascript = \"\"\"\n",
    "\n",
    "<script type=\"text/Javascript\">\n",
    "\n",
    "    var pixels = [];\n",
    "\n",
    "    for (var i = 0; i < 28*28; i++) pixels[i] = 0\n",
    "\n",
    "    var click = 0;\n",
    "\n",
    "\n",
    "\n",
    "    var canvas = document.querySelector(\"canvas\");\n",
    "\n",
    "    canvas.addEventListener(\"mousemove\", function(e){\n",
    "\n",
    "        if (e.buttons == 1) {\n",
    "\n",
    "            click = 1;\n",
    "\n",
    "            canvas.getContext(\"2d\").fillStyle = \"rgb(0,0,0)\";\n",
    "\n",
    "            canvas.getContext(\"2d\").fillRect(e.offsetX, e.offsetY, 8, 8);\n",
    "\n",
    "            x = Math.floor(e.offsetY * 0.2)\n",
    "\n",
    "            y = Math.floor(e.offsetX * 0.2) + 1\n",
    "\n",
    "            for (var dy = 0; dy < 2; dy++){\n",
    "\n",
    "                for (var dx = 0; dx < 2; dx++){\n",
    "\n",
    "                    if ((x + dx < 28) && (y + dy < 28)){\n",
    "\n",
    "                        pixels[(y+dy)+(x+dx)*28] = 1\n",
    "\n",
    "                    }\n",
    "\n",
    "                }\n",
    "\n",
    "            }\n",
    "\n",
    "        } else {\n",
    "\n",
    "            if (click == 1) set_value()\n",
    "\n",
    "            click = 0;\n",
    "\n",
    "        }\n",
    "\n",
    "    });\n",
    "\n",
    "    \n",
    "\n",
    "    function set_value(){\n",
    "\n",
    "        var result = \"\"\n",
    "\n",
    "        for (var i = 0; i < 28*28; i++) result += pixels[i] + \",\"\n",
    "\n",
    "        var kernel = IPython.notebook.kernel;\n",
    "\n",
    "        kernel.execute(\"image = [\" + result + \"]\");\n",
    "\n",
    "    }\n",
    "\n",
    "    \n",
    "\n",
    "    function clear_value(){\n",
    "\n",
    "        canvas.getContext(\"2d\").fillStyle = \"rgb(255,255,255)\";\n",
    "\n",
    "        canvas.getContext(\"2d\").fillRect(0, 0, 140, 140);\n",
    "\n",
    "        for (var i = 0; i < 28*28; i++) pixels[i] = 0\n",
    "\n",
    "    }\n",
    "\n",
    "</script>\n",
    "\n",
    "\"\"\""
   ]
  },
  {
   "cell_type": "code",
   "execution_count": 19,
   "metadata": {},
   "outputs": [
    {
     "data": {
      "text/html": [
       "\n",
       "\n",
       "<table>\n",
       "\n",
       "<td style=\"border-style: none;\">\n",
       "\n",
       "<div style=\"border: solid 2px #666; width: 143px; height: 144px;\">\n",
       "\n",
       "<canvas width=\"140\" height=\"140\"></canvas>\n",
       "\n",
       "</div></td>\n",
       "\n",
       "<td style=\"border-style: none;\">\n",
       "\n",
       "<button onclick=\"clear_value()\">Clear</button>\n",
       "\n",
       "</td>\n",
       "\n",
       "</table>\n",
       "\n",
       "\n",
       "\n",
       "<script type=\"text/Javascript\">\n",
       "\n",
       "    var pixels = [];\n",
       "\n",
       "    for (var i = 0; i < 28*28; i++) pixels[i] = 0\n",
       "\n",
       "    var click = 0;\n",
       "\n",
       "\n",
       "\n",
       "    var canvas = document.querySelector(\"canvas\");\n",
       "\n",
       "    canvas.addEventListener(\"mousemove\", function(e){\n",
       "\n",
       "        if (e.buttons == 1) {\n",
       "\n",
       "            click = 1;\n",
       "\n",
       "            canvas.getContext(\"2d\").fillStyle = \"rgb(0,0,0)\";\n",
       "\n",
       "            canvas.getContext(\"2d\").fillRect(e.offsetX, e.offsetY, 8, 8);\n",
       "\n",
       "            x = Math.floor(e.offsetY * 0.2)\n",
       "\n",
       "            y = Math.floor(e.offsetX * 0.2) + 1\n",
       "\n",
       "            for (var dy = 0; dy < 2; dy++){\n",
       "\n",
       "                for (var dx = 0; dx < 2; dx++){\n",
       "\n",
       "                    if ((x + dx < 28) && (y + dy < 28)){\n",
       "\n",
       "                        pixels[(y+dy)+(x+dx)*28] = 1\n",
       "\n",
       "                    }\n",
       "\n",
       "                }\n",
       "\n",
       "            }\n",
       "\n",
       "        } else {\n",
       "\n",
       "            if (click == 1) set_value()\n",
       "\n",
       "            click = 0;\n",
       "\n",
       "        }\n",
       "\n",
       "    });\n",
       "\n",
       "    \n",
       "\n",
       "    function set_value(){\n",
       "\n",
       "        var result = \"\"\n",
       "\n",
       "        for (var i = 0; i < 28*28; i++) result += pixels[i] + \",\"\n",
       "\n",
       "        var kernel = IPython.notebook.kernel;\n",
       "\n",
       "        kernel.execute(\"image = [\" + result + \"]\");\n",
       "\n",
       "    }\n",
       "\n",
       "    \n",
       "\n",
       "    function clear_value(){\n",
       "\n",
       "        canvas.getContext(\"2d\").fillStyle = \"rgb(255,255,255)\";\n",
       "\n",
       "        canvas.getContext(\"2d\").fillRect(0, 0, 140, 140);\n",
       "\n",
       "        for (var i = 0; i < 28*28; i++) pixels[i] = 0\n",
       "\n",
       "    }\n",
       "\n",
       "</script>\n",
       "\n"
      ],
      "text/plain": [
       "<IPython.core.display.HTML object>"
      ]
     },
     "execution_count": 19,
     "metadata": {},
     "output_type": "execute_result"
    }
   ],
   "source": [
    "HTML(input_form + javascript)"
   ]
  },
  {
   "cell_type": "code",
   "execution_count": 20,
   "metadata": {
    "scrolled": false
   },
   "outputs": [
    {
     "data": {
      "text/plain": [
       "<BarContainer object of 10 artists>"
      ]
     },
     "execution_count": 20,
     "metadata": {},
     "output_type": "execute_result"
    },
    {
     "data": {
      "image/png": "[encoded data removed]",
      "text/plain": [
       "<Figure size 432x288 with 1 Axes>"
      ]
     },
     "metadata": {
      "needs_background": "light"
     },
     "output_type": "display_data"
    }
   ],
   "source": [
    "image_3darray = np.array(image).reshape([1,img_rows,img_cols]) # 1 for None(batch_size)\n",
    "result = model.predict(image_3darray)\n",
    "plt.bar(list(range(10)), list(result.reshape([10])))"
   ]
  },
  {
   "cell_type": "code",
   "execution_count": 21,
   "metadata": {
    "scrolled": true
   },
   "outputs": [
    {
     "name": "stdout",
     "output_type": "stream",
     "text": [
      "[[6.5219567e-05 1.2705586e-04 1.9087027e-04 9.2539370e-01 7.4151222e-04\n",
      "  3.7048988e-02 3.1063566e-02 5.2336175e-03 1.3072825e-04 4.7076373e-06]]\n"
     ]
    },
    {
     "data": {
      "text/plain": [
       "(1, 10)"
      ]
     },
     "execution_count": 21,
     "metadata": {},
     "output_type": "execute_result"
    }
   ],
   "source": [
    "print(result)\n",
    "result.shape"
   ]
  },
  {
   "cell_type": "code",
   "execution_count": null,
   "metadata": {},
   "outputs": [],
   "source": []
  }
 ],
 "metadata": {
  "kernelspec": {
   "display_name": "Python 3",
   "language": "python",
   "name": "python3"
  },
  "language_info": {
   "codemirror_mode": {
    "name": "ipython",
    "version": 3
   },
   "file_extension": ".py",
   "mimetype": "text/x-python",
   "name": "python",
   "nbconvert_exporter": "python",
   "pygments_lexer": "ipython3",
   "version": "3.6.8"
  }
 },
 "nbformat": 4,
 "nbformat_minor": 2
}
